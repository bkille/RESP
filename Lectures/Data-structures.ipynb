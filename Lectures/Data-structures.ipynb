{
 "cells": [
  {
   "cell_type": "markdown",
   "metadata": {
    "slideshow": {
     "slide_type": "slide"
    },
    "tags": []
   },
   "source": [
    "# Basic data structures\n",
    "* Lists\n",
    "* Tuples\n",
    "* Sets\n",
    "* Dictionaries\n",
    "\n",
    "These are all \"iterable\" types i.e. you can \"iterate\" over their elements, one by one."
   ]
  },
  {
   "cell_type": "markdown",
   "metadata": {
    "slideshow": {
     "slide_type": "slide"
    },
    "tags": []
   },
   "source": [
    "## Lists\n",
    "* A *list* is a collection of items in a particular order\n",
    "* Lists can contain items of different types\n",
    "* Lists can be of any length\n",
    "* Lists can contain duplicate items\n",
    "* Lists are denoted by the square brackets in Python `[]`"
   ]
  },
  {
   "cell_type": "code",
   "execution_count": 15,
   "metadata": {
    "slideshow": {
     "slide_type": "subslide"
    },
    "tags": []
   },
   "outputs": [
    {
     "name": "stdout",
     "output_type": "stream",
     "text": [
      "[1, 2, 3] <class 'list'>\n",
      "1\n",
      "3\n",
      "[2]\n",
      "[1, 2]\n",
      "[1, 2]\n",
      "[1, 2]\n",
      "['start', 2, 'end']\n"
     ]
    }
   ],
   "source": [
    "a_list = [1, 2, 3]\n",
    "print(a_list, type(a_list))\n",
    "\n",
    "# Use the brackets to access elements from a list\n",
    "print(a_list[0]) # All lists are 0-indexed in python\n",
    "# Use negative numbers to count from the back of the list\n",
    "print(a_list[-1])\n",
    "# Use a colon to \"slice\" a list\n",
    "print(a_list[1:2])\n",
    "print(a_list[0:2])\n",
    "print(a_list[:2])\n",
    "print(a_list[:-1])\n",
    "print(a_list[:])\n",
    "# You can change list elements as well\n",
    "a_list[0] = \"start\"\n",
    "a_list[-1] = \"end\"\n",
    "print(a_list)"
   ]
  },
  {
   "cell_type": "markdown",
   "metadata": {
    "slideshow": {
     "slide_type": "subslide"
    },
    "tags": []
   },
   "source": [
    "### List member functions"
   ]
  },
  {
   "cell_type": "code",
   "execution_count": 73,
   "metadata": {},
   "outputs": [
    {
     "name": "stdout",
     "output_type": "stream",
     "text": [
      "[]\n",
      "[1]\n",
      "[1, 2, 3, 4]\n",
      "['start', 1, 2, 3, 4]\n"
     ]
    }
   ],
   "source": [
    "another_list = list()\n",
    "print(another_list)\n",
    "another_list.append(1) # The append member function of list takes one argument and adds it to the end\n",
    "print(another_list)\n",
    "another_list.extend([2,3,4]) # The extend member function takes one \"iterable\" argument and adds the elements to the end\n",
    "print(another_list)\n",
    "another_list.insert(0, \"start\") # `insert` inserts the second argument into the list at the index specified by the first argument\n",
    "print(another_list)"
   ]
  },
  {
   "cell_type": "markdown",
   "metadata": {
    "slideshow": {
     "slide_type": "subslide"
    },
    "tags": []
   },
   "source": [
    "What is the output of the following code?\n",
    "```\n",
    ">>> my_list = [1, 2, 3]\n",
    ">>> my_list.append([4, 5])\n",
    ">>> print(my_list)\n",
    "```"
   ]
  },
  {
   "cell_type": "code",
   "execution_count": 74,
   "metadata": {
    "slideshow": {
     "slide_type": "fragment"
    },
    "tags": []
   },
   "outputs": [
    {
     "name": "stdout",
     "output_type": "stream",
     "text": [
      "[1, 2, 3, [4, 5]]\n"
     ]
    }
   ],
   "source": [
    ">>> my_list = [1, 2, 3]\n",
    ">>> my_list.append([4, 5])\n",
    ">>> print(my_list)"
   ]
  },
  {
   "cell_type": "markdown",
   "metadata": {
    "slideshow": {
     "slide_type": "subslide"
    },
    "tags": []
   },
   "source": [
    "What is the output of the following code?\n",
    "```\n",
    ">>> my_list = [1, 2, 3]\n",
    ">>> my_list.extend([])\n",
    ">>> print(my_list)\n",
    "```"
   ]
  },
  {
   "cell_type": "code",
   "execution_count": 75,
   "metadata": {
    "slideshow": {
     "slide_type": "fragment"
    },
    "tags": []
   },
   "outputs": [
    {
     "name": "stdout",
     "output_type": "stream",
     "text": [
      "[1, 2, 3]\n"
     ]
    }
   ],
   "source": [
    ">>> my_list = [1, 2, 3]\n",
    ">>> my_list.extend([])\n",
    ">>> print(my_list)"
   ]
  },
  {
   "cell_type": "markdown",
   "metadata": {
    "slideshow": {
     "slide_type": "subslide"
    },
    "tags": []
   },
   "source": [
    "What is the output of the following code?\n",
    "```\n",
    ">>> my_list = [1, 2, 3]\n",
    ">>> my_list.extend(4)\n",
    ">>> print(my_list)\n",
    "```"
   ]
  },
  {
   "cell_type": "code",
   "execution_count": 76,
   "metadata": {
    "slideshow": {
     "slide_type": "fragment"
    },
    "tags": []
   },
   "outputs": [
    {
     "ename": "TypeError",
     "evalue": "'int' object is not iterable",
     "output_type": "error",
     "traceback": [
      "\u001b[0;31m---------------------------------------------------------------------------\u001b[0m",
      "\u001b[0;31mTypeError\u001b[0m                                 Traceback (most recent call last)",
      "\u001b[0;32m<ipython-input-76-558f12ec851d>\u001b[0m in \u001b[0;36m<module>\u001b[0;34m\u001b[0m\n\u001b[1;32m      1\u001b[0m \u001b[0mmy_list\u001b[0m \u001b[0;34m=\u001b[0m \u001b[0;34m[\u001b[0m\u001b[0;36m1\u001b[0m\u001b[0;34m,\u001b[0m \u001b[0;36m2\u001b[0m\u001b[0;34m,\u001b[0m \u001b[0;36m3\u001b[0m\u001b[0;34m]\u001b[0m\u001b[0;34m\u001b[0m\u001b[0;34m\u001b[0m\u001b[0m\n\u001b[0;32m----> 2\u001b[0;31m \u001b[0mmy_list\u001b[0m\u001b[0;34m.\u001b[0m\u001b[0mextend\u001b[0m\u001b[0;34m(\u001b[0m\u001b[0;36m4\u001b[0m\u001b[0;34m)\u001b[0m\u001b[0;34m\u001b[0m\u001b[0;34m\u001b[0m\u001b[0m\n\u001b[0m\u001b[1;32m      3\u001b[0m \u001b[0mprint\u001b[0m\u001b[0;34m(\u001b[0m\u001b[0mmy_list\u001b[0m\u001b[0;34m)\u001b[0m\u001b[0;34m\u001b[0m\u001b[0;34m\u001b[0m\u001b[0m\n",
      "\u001b[0;31mTypeError\u001b[0m: 'int' object is not iterable"
     ]
    }
   ],
   "source": [
    ">>> my_list = [1, 2, 3]\n",
    ">>> my_list.extend(4)\n",
    ">>> print(my_list)"
   ]
  },
  {
   "cell_type": "markdown",
   "metadata": {
    "slideshow": {
     "slide_type": "subslide"
    },
    "tags": []
   },
   "source": [
    "What is the output of the following code?\n",
    "```\n",
    ">>> my_list = [1, 2, 3, 4, 5, 6]\n",
    ">>> my_list[1:-1] = [\"mid\", \"dle\"]\n",
    ">>> print(my_list)\n",
    "```"
   ]
  },
  {
   "cell_type": "code",
   "execution_count": 67,
   "metadata": {
    "slideshow": {
     "slide_type": "fragment"
    },
    "tags": []
   },
   "outputs": [
    {
     "name": "stdout",
     "output_type": "stream",
     "text": [
      "[1, 'mid', 'dle', 6]\n"
     ]
    }
   ],
   "source": [
    ">>> my_list = [1, 2, 3, 4, 5, 6]\n",
    ">>> my_list[1:-1] = [\"mid\", \"dle\"]\n",
    ">>> print(my_list)"
   ]
  },
  {
   "cell_type": "markdown",
   "metadata": {
    "slideshow": {
     "slide_type": "slide"
    },
    "tags": []
   },
   "source": [
    "####  `del`, `remove`, and `pop`\n",
    "The effects of the three different methods to remove an element from a list:\n",
    "\n",
    "`remove` removes the first matching value, not a specific index:\n",
    "```\n",
    ">>> a = [0, 2, 3, 2]\n",
    ">>> a.remove(2)\n",
    ">>> a\n",
    "[0, 3, 2]\n",
    "```\n",
    "`del` removes the item at a specific index:\n",
    "```\n",
    ">>> a = [9, 8, 7, 6]\n",
    ">>> del a[1]\n",
    ">>> a\n",
    "[9, 7, 6]\n",
    "```\n",
    "and `pop` removes the item at a specific index and returns it.\n",
    "```\n",
    ">>> a = [4, 3, 5]\n",
    ">>> a.pop(1)\n",
    "3\n",
    ">>> a\n",
    "[4, 5]\n",
    "```"
   ]
  },
  {
   "cell_type": "markdown",
   "metadata": {
    "slideshow": {
     "slide_type": "slide"
    },
    "tags": []
   },
   "source": [
    "## Tuples\n",
    "* \"Tuples are immutable, and usually contain an heterogeneous sequence ...\"\n"
   ]
  },
  {
   "cell_type": "code",
   "execution_count": 24,
   "metadata": {},
   "outputs": [
    {
     "name": "stdout",
     "output_type": "stream",
     "text": [
      "('Bryce', 25)\n"
     ]
    }
   ],
   "source": [
    "a_tuple = (\"Bryce\", 25)\n",
    "print(a_tuple)"
   ]
  },
  {
   "cell_type": "code",
   "execution_count": 26,
   "metadata": {},
   "outputs": [
    {
     "ename": "TypeError",
     "evalue": "'tuple' object does not support item assignment",
     "output_type": "error",
     "traceback": [
      "\u001b[0;31m---------------------------------------------------------------------------\u001b[0m",
      "\u001b[0;31mTypeError\u001b[0m                                 Traceback (most recent call last)",
      "\u001b[0;32m<ipython-input-26-db121230ede5>\u001b[0m in \u001b[0;36m<module>\u001b[0;34m\u001b[0m\n\u001b[0;32m----> 1\u001b[0;31m \u001b[0ma_tuple\u001b[0m\u001b[0;34m[\u001b[0m\u001b[0;36m0\u001b[0m\u001b[0;34m]\u001b[0m \u001b[0;34m=\u001b[0m \u001b[0;34m\"Kille\"\u001b[0m\u001b[0;34m\u001b[0m\u001b[0;34m\u001b[0m\u001b[0m\n\u001b[0m",
      "\u001b[0;31mTypeError\u001b[0m: 'tuple' object does not support item assignment"
     ]
    }
   ],
   "source": [
    "a_tuple[0] = \"Kille\""
   ]
  },
  {
   "cell_type": "markdown",
   "metadata": {
    "slideshow": {
     "slide_type": "subslide"
    },
    "tags": []
   },
   "source": [
    "### Pause and play around with lists/errors\n",
    "* Trying to break things is a great way to learn!\n",
    "* The [standard libary](https://docs.python.org/3/library/stdtypes.html#list) provides documentation of **all** member functions."
   ]
  },
  {
   "cell_type": "markdown",
   "metadata": {
    "slideshow": {
     "slide_type": "slide"
    },
    "tags": []
   },
   "source": [
    "## Sets\n",
    "* Lists with no duplicates and with no order"
   ]
  },
  {
   "cell_type": "code",
   "execution_count": 22,
   "metadata": {},
   "outputs": [
    {
     "name": "stdout",
     "output_type": "stream",
     "text": [
      "set()\n",
      "{1}\n",
      "{1, (1, 1)}\n"
     ]
    }
   ],
   "source": [
    "a_set = set()\n",
    "print(a_set)\n",
    "a_set = {1, 1, 1}\n",
    "print(a_set)\n",
    "a_set = {1, (1, 1), 1}\n",
    "print(a_set)"
   ]
  },
  {
   "cell_type": "markdown",
   "metadata": {
    "slideshow": {
     "slide_type": "fragment"
    },
    "tags": []
   },
   "source": [
    "How does python know if an element is already in the set?"
   ]
  },
  {
   "cell_type": "code",
   "execution_count": 29,
   "metadata": {
    "slideshow": {
     "slide_type": "subslide"
    },
    "tags": []
   },
   "outputs": [
    {
     "name": "stdout",
     "output_type": "stream",
     "text": [
      "{1, 2, 3, 4, (1, 1)}\n",
      "{1}\n",
      "{2, 3, 4}\n"
     ]
    }
   ],
   "source": [
    "# The classic set operations\n",
    "b_set = {1, 2, 3, 4}\n",
    "print(b_set.union(a_set))\n",
    "print(b_set.intersection(a_set))\n",
    "print(b_set.difference(a_set))"
   ]
  },
  {
   "cell_type": "markdown",
   "metadata": {
    "slideshow": {
     "slide_type": "fragment"
    },
    "tags": []
   },
   "source": [
    "Many more operations listed [here](https://docs.python.org/3/library/stdtypes.html#set)"
   ]
  },
  {
   "cell_type": "markdown",
   "metadata": {
    "slideshow": {
     "slide_type": "slide"
    },
    "tags": []
   },
   "source": [
    "## Dictionaries\n",
    "* A way to associate data\n",
    "* Maps keys to values"
   ]
  },
  {
   "cell_type": "code",
   "execution_count": 52,
   "metadata": {},
   "outputs": [
    {
     "name": "stdout",
     "output_type": "stream",
     "text": [
      "{'bryce': 25, 'andi': 30, 'python': '30 years old this year!'}\n"
     ]
    }
   ],
   "source": [
    "name_to_age = dict()\n",
    "name_to_age[\"bryce\"] = 25\n",
    "name_to_age[\"andi\"] = 30\n",
    "name_to_age[\"python\"] = \"30 years old this year!\"\n",
    "print(name_to_age)"
   ]
  },
  {
   "cell_type": "code",
   "execution_count": 53,
   "metadata": {},
   "outputs": [
    {
     "name": "stdout",
     "output_type": "stream",
     "text": [
      "{'bryce': 25, 'andi': 30, 'python': '30 years old this year!'}\n",
      "{'bryce': {'bryce': 25, 'andi': 30, 'python': '30 years old this year!'}, 'andi': 30, 'Python': 30}\n",
      "{'bryce': {'bryce': {'bryce': 25, 'andi': 30, 'python': '30 years old this year!'}, 'andi': 30, 'Python': 30}, 'andi': 30, 'Python': 30}\n"
     ]
    }
   ],
   "source": [
    "name_to_age = {'bryce': name_to_age, 'andi': 30, 'Python': 30}\n",
    "print(name_to_age[\"bryce\"])\n",
    "name_to_age = {'bryce': name_to_age, 'andi': 30, 'Python': 30}\n",
    "print(name_to_age[\"bryce\"])\n",
    "name_to_age = {'bryce': name_to_age, 'andi': 30, 'Python': 30}\n",
    "print(name_to_age[\"bryce\"])"
   ]
  },
  {
   "cell_type": "markdown",
   "metadata": {
    "slideshow": {
     "slide_type": "subslide"
    },
    "tags": []
   },
   "source": [
    "### Dictionary member functions"
   ]
  },
  {
   "cell_type": "code",
   "execution_count": 58,
   "metadata": {},
   "outputs": [
    {
     "name": "stdout",
     "output_type": "stream",
     "text": [
      "dict_keys([30, 25])\n",
      "dict_values([['andi', 'python'], 'bryce'])\n",
      "dict_items([(30, ['andi', 'python']), (25, 'bryce')])\n"
     ]
    }
   ],
   "source": [
    "age_to_name = {30: [\"andi\", \"python\"], 25: \"bryce\"}\n",
    "print(age_to_name.keys())\n",
    "print(age_to_name.values())\n",
    "print(age_to_name.items())"
   ]
  }
 ],
 "metadata": {
  "kernelspec": {
   "display_name": "Python 3",
   "language": "python",
   "name": "python3"
  },
  "language_info": {
   "codemirror_mode": {
    "name": "ipython",
    "version": 3
   },
   "file_extension": ".py",
   "mimetype": "text/x-python",
   "name": "python",
   "nbconvert_exporter": "python",
   "pygments_lexer": "ipython3",
   "version": "3.7.6"
  },
  "toc-showcode": false
 },
 "nbformat": 4,
 "nbformat_minor": 4
}
