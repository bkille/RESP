{
 "cells": [
  {
   "cell_type": "markdown",
   "id": "81c49403-d3f9-45f6-be2b-526d24ea03bd",
   "metadata": {},
   "source": [
    "# Stack overflow, piazza, reading etc"
   ]
  },
  {
   "cell_type": "markdown",
   "id": "b690db80-fff4-4734-a26a-9f0a9871f0e0",
   "metadata": {},
   "source": [
    "* https://stackoverflow.com/questions/tagged/python?sort=MostVotes&edited=true\n",
    "* \n",
    "    "
   ]
  },
  {
   "cell_type": "markdown",
   "id": "325b754e-b05a-4510-97dc-5971ee3117d0",
   "metadata": {
    "slideshow": {
     "slide_type": "slide"
    },
    "tags": []
   },
   "source": [
    "# Data structure practice "
   ]
  },
  {
   "cell_type": "markdown",
   "id": "d5982180-7885-40ae-8145-f9c51ad90c14",
   "metadata": {
    "slideshow": {
     "slide_type": "subslide"
    },
    "tags": []
   },
   "source": [
    "## Type hinting\n",
    "* You may see \"type hints\" in python. \n",
    "* As the name implies, type hints are ways for developers to \"hint at\" what type a variable is.\n",
    "* For example, the function definiton below hints that the input is a list of strings, and the output is an integer\n",
    "```python\n",
    "def longest_sequence(dna_sequences: List[str]) -> int\n",
    "```"
   ]
  },
  {
   "cell_type": "markdown",
   "id": "4a0cf633-fd38-4372-88dd-9298c0cc9211",
   "metadata": {
    "slideshow": {
     "slide_type": "slide"
    },
    "tags": []
   },
   "source": [
    "## Problem 1\n",
    "> Write a function `motif_loc(dna: str, motif: str) -> List[int]` that returns a list of all position where `motif` is a *substring* of `s`. \n",
    "\n",
    "* A *substring* of a string $s=c_1,c_2,...,c_n$ is any string $c_i,c_{i+1},...,c_{j}$ for any $i,j\\leq n$\n",
    "\n",
    "```python\n",
    ">>> motif_loc(\"GATATATGCATATACTT\", \"ATAT\")\n",
    "[1, 3, 9]\n",
    "```"
   ]
  },
  {
   "cell_type": "markdown",
   "id": "906841b3-d932-4152-92fd-0bfd06a4fd19",
   "metadata": {
    "slideshow": {
     "slide_type": "slide"
    },
    "tags": []
   },
   "source": [
    "## Problem 2\n",
    "> Write a function `is_motif(dna_sequences: List[str], motif: str) -> bool` that returns a `True` if and only if `motif` is a substring of all strings in `dna_sequences` and `False` otherwise. \n",
    "\n",
    "\n",
    "```python\n",
    ">>> motif_loc([\"TATACGA\", \"ATAT\", \"GACATATC\"], \"ATAT\")\n",
    "False\n",
    ">>> motif_loc([\"GATATCGA\", \"ATAT\", \"GACATATC\"], \"ATAT\")\n",
    "True\n",
    "```"
   ]
  },
  {
   "cell_type": "markdown",
   "id": "9d6c47c3-076b-4499-a125-f70ad1affd19",
   "metadata": {
    "slideshow": {
     "slide_type": "slide"
    },
    "tags": []
   },
   "source": [
    "## Problem 3\n",
    "> Write a function `get_motifs(dna_sequences: List[str], k: int) -> Set[str]` that returns a set of all motifs of length `k` that are present in every sequence in `dna_sequences`.\n",
    "\n",
    "* A string `m` is a *motif* of a set of strings $S$ if and only if it is a substring of every string in $S$.\n",
    "\n",
    "```python\n",
    ">>> find_motifs([\"GATATCGA\", \"ATAT\", \"GACATATC\"], 3)\n",
    "{'ATA', 'TAT'}\n",
    ">>> find_motifs([\"GATATCGA\", \"ATAT\", \"GACATATC\"], 5)\n",
    "{}\n",
    "```"
   ]
  },
  {
   "cell_type": "markdown",
   "id": "9e6df90a-ac63-46bc-b756-5fd299867072",
   "metadata": {
    "slideshow": {
     "slide_type": "slide"
    },
    "tags": []
   },
   "source": [
    "## Problem 4\n",
    "\n",
    "> Write a function `max_return(prices: List[float])  -> float`, where `prices` is a list of daily stock prices and the return value is the maximum profit you can make if you can only buy and sell at most **one** time.\n",
    "\n",
    "* **note** you can only buy 1 unit (:\n",
    "\n",
    "```python\n",
    ">>> max_return([7,1,5,3,6,4])\n",
    "5\n",
    ">>> max_return([7,6,4,3,1])\n",
    "0\n",
    "```"
   ]
  },
  {
   "cell_type": "markdown",
   "id": "f0512d32-f444-4aab-8cf5-5d8bb3f38de5",
   "metadata": {
    "slideshow": {
     "slide_type": "slide"
    },
    "tags": []
   },
   "source": [
    "## Problem 5\n",
    "\n",
    "> Write a function `max_return_unlimited(prices: List[float]) -> float`, where `prices` is a list of daily stock prices and the return value is the maximum profit you can make if you can buy and sell as many times as you'd like (so long as you are not \"holding\" multiple units at the same time i.e. sell before you buy again)\n",
    "\n",
    "```python\n",
    ">>> max_return([7,1,5,3,6,4])\n",
    "7\n",
    ">>> max_return([1,2,3,4,5])\n",
    "4\n",
    ">>> max_return([7,6,4,3,1])\n",
    "0\n",
    "```"
   ]
  },
  {
   "cell_type": "markdown",
   "id": "a28e2878-ab28-47b8-88c0-79bd82343f0e",
   "metadata": {
    "slideshow": {
     "slide_type": "slide"
    },
    "tags": []
   },
   "source": [
    "## Problem 6\n",
    "> Write a function `counter(names: List[str]) -> Dict[str, int]` that returns a dictionary which maps each name to the number of times it appears in `names`.\n",
    "\n",
    "```python\n",
    ">>> counter(['BK', 'EX', 'AK', 'EX', 'BK', 'AK', 'AK', 'EX'])\n",
    "{\"BK\": 2, \"EX\": 3, \"AK\": 3}\n",
    "```"
   ]
  },
  {
   "cell_type": "markdown",
   "id": "ed314e46-21cf-4afb-b2b4-8934e090f3a1",
   "metadata": {
    "slideshow": {
     "slide_type": "slide"
    },
    "tags": []
   },
   "source": [
    "## Problem 7\n",
    "> Write a function `mode(names: List[str]) -> Set[str]` that returns a set of the most common names in `names`.\n",
    "\n",
    "```python\n",
    ">>> counter(['BK', 'EX', 'AK', 'EX', 'BK', 'AK', 'AK', 'EX'])\n",
    "{\"EX\", \"AK\"}\n",
    "```"
   ]
  },
  {
   "cell_type": "markdown",
   "id": "478d3b55-3246-4377-b79c-a86f0c3faf69",
   "metadata": {
    "slideshow": {
     "slide_type": "slide"
    },
    "tags": []
   },
   "source": [
    "# Graphs\n"
   ]
  },
  {
   "cell_type": "markdown",
   "id": "6e079f86-10fe-49b1-85e7-be6ab2a63e92",
   "metadata": {
    "slideshow": {
     "slide_type": "subslide"
    },
    "tags": []
   },
   "source": [
    "### How to represent graphs in python?\n",
    "\n",
    "* The most intuitive way is to map *nodes* to their *neighbors*.\n",
    "* How can we do this with the data structures we've discussed so far?"
   ]
  },
  {
   "cell_type": "markdown",
   "id": "848c906c-924f-435a-885f-811be72dda65",
   "metadata": {
    "slideshow": {
     "slide_type": "fragment"
    },
    "tags": []
   },
   "source": [
    "* We know that dictionaries can perform mappings. What would be the keys?"
   ]
  },
  {
   "cell_type": "markdown",
   "id": "588782f7-ab72-43bf-bd1d-53023fac2f3a",
   "metadata": {
    "slideshow": {
     "slide_type": "fragment"
    },
    "tags": []
   },
   "source": [
    "* If nodes are the keys of the dictionary, what would the value(s) be?"
   ]
  },
  {
   "cell_type": "markdown",
   "id": "e10fecc9-267d-4719-a88d-2465b617e42f",
   "metadata": {
    "slideshow": {
     "slide_type": "subslide"
    },
    "tags": []
   },
   "source": [
    "## Graphs as dictionaries of sets\n",
    "* We can represent a graph as a dictionary of sets, where a node `v` maps to the set of all neighbor nodes.\n",
    "* If the edges are labeled, how could we represent the labels?"
   ]
  },
  {
   "cell_type": "markdown",
   "id": "72597c63-189d-4da2-9ae1-12546e42d2ab",
   "metadata": {
    "slideshow": {
     "slide_type": "fragment"
    },
    "tags": []
   },
   "source": [
    "* Instead of mapping to all neighbor nodes, we could instead map to a set of tuples, where each tuple contains a neighbor as well as the edge label."
   ]
  }
 ],
 "metadata": {
  "kernelspec": {
   "display_name": "Python 3",
   "language": "python",
   "name": "python3"
  },
  "language_info": {
   "codemirror_mode": {
    "name": "ipython",
    "version": 3
   },
   "file_extension": ".py",
   "mimetype": "text/x-python",
   "name": "python",
   "nbconvert_exporter": "python",
   "pygments_lexer": "ipython3",
   "version": "3.7.6"
  }
 },
 "nbformat": 4,
 "nbformat_minor": 5
}
