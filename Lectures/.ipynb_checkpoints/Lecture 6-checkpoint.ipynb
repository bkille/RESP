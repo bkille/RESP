{
 "cells": [
  {
   "cell_type": "markdown",
   "id": "fa5ca93e-9044-4ae8-b13e-0798dd32f2b3",
   "metadata": {},
   "source": [
    "# A brief introduction to \"Games\""
   ]
  },
  {
   "cell_type": "markdown",
   "id": "22827d8a-268f-4d12-9d17-767d26c02fc2",
   "metadata": {},
   "source": [
    "## $(m,n,k)$ games\n",
    "\n",
    "* Given an $m$x$n$ board, the players take turn placing colored stones (i.e. x/o in tic-tac-toe).\n",
    "* First player to get $k$ consecutive pieces in a row, column, or diagonal wins\n",
    "\n",
    "#### Question\n",
    "> Is what are the values of $m$, $n$, and $k$ for tic-tac-toe? "
   ]
  },
  {
   "cell_type": "markdown",
   "id": "4c648a9d-ab26-46ec-a90e-385066a232c2",
   "metadata": {},
   "source": [
    "## Your project: A game engine\n",
    "* Given a board, how could you decide what the best move is?\n",
    "* Can you examine by brute force all possible sequences of moves?\n",
    "\n",
    "#### Question\n",
    "> What would the *complexity* of the brute force method be?"
   ]
  },
  {
   "cell_type": "markdown",
   "id": "431ae80e-b10c-4952-aac1-2839c388fb9a",
   "metadata": {},
   "source": [
    "### Game engines\n",
    "* Examining all moves by brute force is hardly ever an option due to the complexity\n",
    "* Instead, we need to decide whether or not a current board or \"game state\" is good or bad\n",
    "* Imagine that given a board, we assign a number between -10 and 10, with 10 meaning we'll surely win on this board and -10 meaning we'll surely lose\n",
    "* Instead of brute forcing all possible sequences of moves, we can just look at any of the possible moves *only on this turn* and select the one with the highest score. "
   ]
  },
  {
   "cell_type": "markdown",
   "id": "d820777e-8e2e-4348-be61-c29a2716ece3",
   "metadata": {},
   "source": [
    "#### Question\n",
    "> It is well known that in tic-tac-toe, there is a strategy for player 1 that **guarantees** they'll never lose. Instead of proving this is true by brute force, how can you prove such a strategy exists using the \"proof by contradiction\" method? "
   ]
  },
  {
   "cell_type": "markdown",
   "id": "af96e327-c2cd-41cf-958a-af43162df1b6",
   "metadata": {},
   "source": [
    "#### Solution \n",
    "###### You're not responsible for knowing this proof, or even understanding it. It is here for motivation of why proofs are so cool\n",
    "* We know that whatever move player 1 makes first, *it can't make it harder to win than if they hadn't made a move at all*. \n",
    "* Assume **by contradiction** that player 2 has a winning strategy. \n",
    "* Since we know  that the first move of player 1 couldn't have made it harder to win, let's ignore it for now and pretend they haven't had a turn yet.\n",
    "* If, after player 2's first move, player 1 *steals* player 2's \"winning strategy for the second player\", they should win since they are effectively the second player on a game board that started with an extra stone of theirs. \n",
    "* But if player 1 wins using player 2's strategy, then it wasn't really a winning strategy for player 2 was it? "
   ]
  }
 ],
 "metadata": {
  "kernelspec": {
   "display_name": "Python 3",
   "language": "python",
   "name": "python3"
  },
  "language_info": {
   "codemirror_mode": {
    "name": "ipython",
    "version": 3
   },
   "file_extension": ".py",
   "mimetype": "text/x-python",
   "name": "python",
   "nbconvert_exporter": "python",
   "pygments_lexer": "ipython3",
   "version": "3.7.6"
  }
 },
 "nbformat": 4,
 "nbformat_minor": 5
}
