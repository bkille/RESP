{
 "cells": [
  {
   "cell_type": "code",
   "execution_count": 8,
   "id": "65b5c86f-7846-4007-a53f-7e4115780f15",
   "metadata": {},
   "outputs": [],
   "source": [
    "def check_state(c4_board):\n",
    "    # Check horizontal\n",
    "    o_won = x_won = False\n",
    "    for row in c4_board:\n",
    "        for i in range(len(row)):\n",
    "            if row[i:i+4] == [\"X\"] * 4:\n",
    "                x_won = True\n",
    "            elif row[i:i+4] == [\"O\"] * 4:\n",
    "                o_won = True\n",
    "    # check vertical\n",
    "    for col_idx in range(len(c4_board[0])):\n",
    "        for row_idx in range(len(c4_board) - 3):\n",
    "            if [c4_board[row_idx + i][col_idx] for i in range(4)] == [\"X\"] * 4:\n",
    "                x_won = True\n",
    "            elif [c4_board[row_idx + i][col_idx] for i in range(4)] == [\"O\"] * 4:\n",
    "                o_won = True\n",
    "        \n",
    "    # check diagonal\n",
    "    for row_idx in range(len(c4_board) - 3):\n",
    "        # Check up diagonal\n",
    "        for col_idx in range(len(c4_board[0]) - 3):\n",
    "            if [c4_board[row_idx + i][col_idx + i] for i in range(4)] == [\"X\"] * 4:\n",
    "                x_won = True\n",
    "            elif [c4_board[row_idx + i][col_idx + i] for i in range(4)] == [\"O\"] * 4:\n",
    "                o_won = True\n",
    "        # Check down diagonal\n",
    "        for col_idx in range(3, len(c4_board[0])):\n",
    "            if [c4_board[row_idx + i][col_idx - i] for i in range(4)] == [\"X\"] * 4:\n",
    "                x_won = True\n",
    "            elif [c4_board[row_idx + i][col_idx - i] for i in range(4)] == [\"O\"] * 4:\n",
    "                o_won = True\n",
    "    if x_won and o_won:\n",
    "        return \"ERROR\"\n",
    "    if x_won:\n",
    "        return \"X\"\n",
    "    if o_won:\n",
    "        return \"O\"\n",
    "    return None\n",
    "        \n"
   ]
  },
  {
   "cell_type": "code",
   "execution_count": null,
   "id": "a7c52514-8a25-44f0-8b8a-26874ab37e04",
   "metadata": {},
   "outputs": [],
   "source": []
  },
  {
   "cell_type": "code",
   "execution_count": null,
   "id": "562e01be-375d-4a7f-8304-bc517022406a",
   "metadata": {},
   "outputs": [],
   "source": []
  },
  {
   "cell_type": "code",
   "execution_count": 16,
   "id": "d5136c06-fadb-4af6-b62a-a3e829cd7a68",
   "metadata": {},
   "outputs": [],
   "source": [
    "board1 = [\n",
    "    [\"O\", \"X\", \"X\", \"O\", \"X\", \"X\"],\n",
    "    [\"X\", \"X\", \"X\", \"O\", \"X\", \"X\"],\n",
    "    [\"O\", \"X\", \"O\", \"O\", \"O\", \"X\"],\n",
    "    [\"O\", \"O\", \"O\", \"X\", \"X\", \"O\"],\n",
    "]\n",
    "\n",
    "check_state(board1)"
   ]
  }
 ],
 "metadata": {
  "kernelspec": {
   "display_name": "Python 3",
   "language": "python",
   "name": "python3"
  },
  "language_info": {
   "codemirror_mode": {
    "name": "ipython",
    "version": 3
   },
   "file_extension": ".py",
   "mimetype": "text/x-python",
   "name": "python",
   "nbconvert_exporter": "python",
   "pygments_lexer": "ipython3",
   "version": "3.7.6"
  }
 },
 "nbformat": 4,
 "nbformat_minor": 5
}
