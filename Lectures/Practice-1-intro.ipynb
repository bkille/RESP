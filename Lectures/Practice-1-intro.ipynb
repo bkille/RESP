{
 "cells": [
  {
   "cell_type": "code",
   "execution_count": null,
   "id": "eef017a6-99c0-4fcf-9a39-e0502cd9f028",
   "metadata": {},
   "outputs": [],
   "source": [
    "def largest_product(number, n):\n",
    "    \"\"\"\n",
    "    Given a number `number`, return the largest product acheivable by `n` adjacent digits within the number.\n",
    "    For example, largest_product(12345654321, 3) would return 150, which is obtainable via 5*6*5\n",
    "    \"\"\"\n",
    "    largest = 0\n",
    "    str_num = str(number)\n",
    "    for i in range(len(str_num)):\n",
    "        if i + n >= len(str_num):\n",
    "            break\n",
    "        substr = str_num[i:i + n]\n",
    "        prod = 1\n",
    "        for c in substr:\n",
    "            prod *= int(c)\n",
    "        if prod > largest:\n",
    "            largest = prod\n",
    "    return largest"
   ]
  },
  {
   "cell_type": "code",
   "execution_count": 5,
   "id": "598985e8-900c-4590-b4f3-92145038f03c",
   "metadata": {},
   "outputs": [
    {
     "data": {
      "text/plain": [
       "150"
      ]
     },
     "execution_count": 5,
     "metadata": {},
     "output_type": "execute_result"
    }
   ],
   "source": [
    "largest_product(12345654321, 3)"
   ]
  },
  {
   "cell_type": "code",
   "execution_count": 8,
   "id": "3f26e5db-c9e8-44b4-9ce0-5754a1c297d0",
   "metadata": {},
   "outputs": [],
   "source": [
    "large_number = int(\"\"\"73167176531330624919225119674426574742355349194934\n",
    "96983520312774506326239578318016984801869478851843\n",
    "85861560789112949495459501737958331952853208805511\n",
    "12540698747158523863050715693290963295227443043557\n",
    "66896648950445244523161731856403098711121722383113\n",
    "62229893423380308135336276614282806444486645238749\n",
    "30358907296290491560440772390713810515859307960866\n",
    "70172427121883998797908792274921901699720888093776\n",
    "65727333001053367881220235421809751254540594752243\n",
    "52584907711670556013604839586446706324415722155397\n",
    "53697817977846174064955149290862569321978468622482\n",
    "83972241375657056057490261407972968652414535100474\n",
    "82166370484403199890008895243450658541227588666881\n",
    "16427171479924442928230863465674813919123162824586\n",
    "17866458359124566529476545682848912883142607690042\n",
    "24219022671055626321111109370544217506941658960408\n",
    "07198403850962455444362981230987879927244284909188\n",
    "84580156166097919133875499200524063689912560717606\n",
    "05886116467109405077541002256983155200055935729725\n",
    "71636269561882670428252483600823257530420752963450\"\"\".replace('\\n', ''))"
   ]
  },
  {
   "cell_type": "code",
   "execution_count": 9,
   "id": "f14b41bc-1d74-48fb-b31b-aa34f5205608",
   "metadata": {},
   "outputs": [
    {
     "data": {
      "text/plain": [
       "23514624000"
      ]
     },
     "execution_count": 9,
     "metadata": {},
     "output_type": "execute_result"
    }
   ],
   "source": [
    "largest_product(large_number, 13)"
   ]
  }
 ],
 "metadata": {
  "kernelspec": {
   "display_name": "Python 3",
   "language": "python",
   "name": "python3"
  },
  "language_info": {
   "codemirror_mode": {
    "name": "ipython",
    "version": 3
   },
   "file_extension": ".py",
   "mimetype": "text/x-python",
   "name": "python",
   "nbconvert_exporter": "python",
   "pygments_lexer": "ipython3",
   "version": "3.7.6"
  }
 },
 "nbformat": 4,
 "nbformat_minor": 5
}
