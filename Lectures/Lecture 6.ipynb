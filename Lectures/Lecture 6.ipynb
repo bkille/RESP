{
 "cells": [
  {
   "cell_type": "markdown",
   "id": "fa5ca93e-9044-4ae8-b13e-0798dd32f2b3",
   "metadata": {},
   "source": [
    "# A brief introduction to \"Games\""
   ]
  },
  {
   "cell_type": "markdown",
   "id": "22827d8a-268f-4d12-9d17-767d26c02fc2",
   "metadata": {},
   "source": [
    "## $(m,n,k)$ games\n",
    "\n",
    "* Given an $m$x$n$ board, the players take turn placing colored stones (i.e. x/o in tic-tac-toe).\n",
    "* First player to get $k$ consecutive pieces in a row, column, or diagonal wins\n",
    "\n",
    "#### Question\n",
    "> What are the values of $m$, $n$, and $k$ for tic-tac-toe? "
   ]
  },
  {
   "cell_type": "markdown",
   "id": "4c648a9d-ab26-46ec-a90e-385066a232c2",
   "metadata": {},
   "source": [
    "## Your project: A game engine\n",
    "* Given a board, how could you decide what the best move is?\n",
    "* Can you examine by brute force all possible sequences of moves?\n",
    "\n",
    "#### Question\n",
    "> What would the *complexity* of the brute force method be?"
   ]
  },
  {
   "cell_type": "markdown",
   "id": "431ae80e-b10c-4952-aac1-2839c388fb9a",
   "metadata": {},
   "source": [
    "### Game engines\n",
    "* Examining all moves by brute force is hardly ever an option due to the complexity\n",
    "* Instead, we need to decide whether or not a current board or \"game state\" is good or bad\n",
    "* Imagine that given a board, we assign a number between -10 and 10, with 10 meaning we'll surely win on this board and -10 meaning we'll surely lose\n",
    "* Instead of brute forcing all possible sequences of moves, we can just look at any of the possible moves *only on this turn* and select the one with the highest score. "
   ]
  },
  {
   "cell_type": "markdown",
   "id": "d820777e-8e2e-4348-be61-c29a2716ece3",
   "metadata": {},
   "source": [
    "#### Question\n",
    "> It is well known that in tic-tac-toe, there is a strategy for player 1 that **guarantees** they'll never lose. Instead of proving this is true by brute force, how can you prove such a strategy exists using the \"proof by contradiction\" method? "
   ]
  },
  {
   "cell_type": "markdown",
   "id": "af96e327-c2cd-41cf-958a-af43162df1b6",
   "metadata": {},
   "source": [
    "#### Solution \n",
    "###### You're not responsible for knowing this proof, or even understanding it. It is here for motivation of why proofs are so cool\n",
    "* We know that whatever move player 1 makes first, *it can't make it harder to win than if they hadn't made a move at all*. \n",
    "* Assume **by contradiction** that player 2 has a winning strategy. \n",
    "* Since we know  that the first move of player 1 couldn't have made it harder to win, let's ignore it for now and pretend they haven't had a turn yet.\n",
    "* If, after player 2's first move, player 1 *steals* player 2's \"winning strategy for the second player\", they should win since they are effectively the second player on a game board that started with an extra stone of theirs. \n",
    "* But if player 1 wins using player 2's strategy, then it wasn't really a winning strategy for player 2 was it? "
   ]
  },
  {
   "cell_type": "markdown",
   "id": "383366d0-5349-47ef-81df-72f8296a0ca7",
   "metadata": {},
   "source": [
    "## Working with boards\n",
    "\n",
    "* A board will be represented as a \"list of lists\" which is essentially a 2-dimensional grid\n",
    "```python\n",
    ">>> ttt_board = [\n",
    "    [\" \", \"O\", \"X\"], # First list in our list of lists, can be indexed by ttt_board[0]\n",
    "    [\" \", \"O\", \"O\"],\n",
    "    [\"X\", \"X\", \" \"]\n",
    "]\n",
    "```"
   ]
  },
  {
   "cell_type": "markdown",
   "id": "263c22d6-c7cc-4d13-a5e4-c2d0066c6bbf",
   "metadata": {},
   "source": [
    "### Constructing a list with a repeated element\n",
    "* Consider the case you want to check if a row is full of the same stone. \n",
    "> Write a function `list_state(input_list: List[str]) -> str` that returns\n",
    "> * `\"X\"` if the row is all `X`\n",
    "> * `\"O\"` if the row is all `O`\n",
    "> * `\"\"` if there is no winner"
   ]
  },
  {
   "cell_type": "markdown",
   "id": "3b4cf07c-c170-4c1b-9dc2-7922d91e0371",
   "metadata": {},
   "source": [
    "* What if you want to *construct* a row of all `\"X\"`? \n",
    "```python\n",
    ">>> all_x = []\n",
    ">>> for _ in range(n):\n",
    ">>>        all_x.append(\"X\")\n",
    "```"
   ]
  },
  {
   "cell_type": "markdown",
   "id": "9f609a09-72ba-41c3-be77-221ea1813768",
   "metadata": {},
   "source": [
    "```python\n",
    ">>> all_x = [\"X\"] * n\n",
    "```"
   ]
  },
  {
   "cell_type": "markdown",
   "id": "ee236b76-dcae-4fb4-ba3d-32d3138ddc58",
   "metadata": {},
   "source": [
    "## Practice problem 1\n",
    "\n",
    "> **Without** using slicing, write a function `consecutive_k(input_list: List[str], k: int, stone: str) -> bool` that returns `True` if and only if there exists an $i$ such that $\\texttt{input_list}_j = \\texttt{stone}\\;\\;$  for $i \\leq j < i + k$"
   ]
  },
  {
   "cell_type": "markdown",
   "id": "7d62f2b1-1307-4107-aec4-889c0305e21b",
   "metadata": {},
   "source": [
    "## Practice problem 2\n",
    "\n",
    "> **With** using slicing, Write a function `consecutive_k(input_list: List[str], k: int, stone: str) -> bool` that returns `True` if and only if there exists an $i$ such that $\\texttt{input_list}_j = \\texttt{stone}\\;\\;$  for $i \\leq j < i + k$"
   ]
  },
  {
   "cell_type": "markdown",
   "id": "8fe027da-f4dc-4f9b-ad47-1a8b84853977",
   "metadata": {},
   "source": [
    "## Practice problem 3 \n",
    "\n",
    "> Write a function `get_column(ttt_board: List[List[str]], col_idx: int) -> List[str]` that returns the $\\texttt{col_idx}^\\text{th}$ column of $\\texttt{ttt_board}$\n",
    "\n",
    "```python\n",
    ">>> board = [\n",
    "    [\"X\", \" \", \"O\", \"X\"],\n",
    "    [\" \", \"O\", \" \", \" \"],\n",
    "    [\" \", \" \", \"O\", \"O\"],\n",
    "    [\"X\", \"O\", \" \", \"X\"]\n",
    "]\n",
    ">>> get_column(board, 3)\n",
    "[\"X\", \" \", \"O\", \"X\"]\n",
    "```"
   ]
  },
  {
   "cell_type": "markdown",
   "id": "f3a698a3-f1f7-4973-9d32-f0da7615a819",
   "metadata": {},
   "source": [
    "## Practice problem 4 \n",
    "\n",
    "> Write a function `get_updiag(ttt_board: List[List[str]], row_idx: int) -> List[str]` that returns a list representing the diagonal that starts at `ttt_board[row_idx][col_idx]` and moves upward and to the right **in the visual representation** i.e. the next element is `ttt_board[row_idx-1][col_idx+1]`\n",
    "\n",
    "```python\n",
    ">>> board = [\n",
    "    [\"X\", \" \", \"O\", \"X\"],\n",
    "    [\" \", \"O\", \" \", \" \"],\n",
    "    [\" \", \" \", \"O\", \"O\"],\n",
    "    [\"X\", \"O\", \" \", \"X\"]\n",
    "]\n",
    ">>> get_updiag(board, 2, 0)\n",
    "[\" \", \"O\", \"O\"]\n",
    ">>> get_updiag(board, 3, 2)\n",
    "[\" \", \"O\"]\n",
    "```"
   ]
  }
 ],
 "metadata": {
  "kernelspec": {
   "display_name": "Python 3",
   "language": "python",
   "name": "python3"
  },
  "language_info": {
   "codemirror_mode": {
    "name": "ipython",
    "version": 3
   },
   "file_extension": ".py",
   "mimetype": "text/x-python",
   "name": "python",
   "nbconvert_exporter": "python",
   "pygments_lexer": "ipython3",
   "version": "3.7.6"
  }
 },
 "nbformat": 4,
 "nbformat_minor": 5
}
