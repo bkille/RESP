{
 "cells": [
  {
   "cell_type": "markdown",
   "id": "a3c83fb9-7060-45ab-bd2b-0ba5d2036826",
   "metadata": {
    "slideshow": {
     "slide_type": "slide"
    },
    "tags": []
   },
   "source": [
    "# Lecture 4: Nested lists and more practice\n",
    "* We are going to start getting ready for the class project, which involves game boards\n",
    "* Game boards can be thought of as 2 dimensional lists in Python\n",
    "* `board[row][col]` represents the cell on the board in row `row` and column `col`. \n",
    "* We will use `-` to denote an empty cell on the board.\n",
    "* For our games, the two players will be denoted by the \"stones\" `X` and `O`. "
   ]
  },
  {
   "cell_type": "markdown",
   "id": "3504e04f-fb1e-41ee-892e-d82fee3f99d3",
   "metadata": {
    "slideshow": {
     "slide_type": "subslide"
    },
    "tags": []
   },
   "source": [
    "> What does the following code print?\n",
    "```python\n",
    ">>> empty_board = [\n",
    "    ['-', '-', '-'],\n",
    "    ['-', '-', '-'],\n",
    "    ['-', '-', '-']\n",
    "]\n",
    ">>> print(empty_board[0][0])\n",
    "```"
   ]
  },
  {
   "cell_type": "markdown",
   "id": "39c789ca-743d-40ba-9a8f-f1ba2cf2c68b",
   "metadata": {
    "slideshow": {
     "slide_type": "subslide"
    },
    "tags": []
   },
   "source": [
    "> What does the following code print?\n",
    "```python\n",
    ">>> empty_board = [\n",
    "    ['-', '-', '-'],\n",
    "    ['-', '-', '-'],\n",
    "    ['-', '-', '-']\n",
    "]\n",
    ">>> print(empty_board[0])\n",
    "```"
   ]
  },
  {
   "cell_type": "markdown",
   "id": "a0e9d508-6263-4f06-9e6c-795c01e7e889",
   "metadata": {
    "slideshow": {
     "slide_type": "subslide"
    },
    "tags": []
   },
   "source": [
    "> What does the following code print?\n",
    "```python\n",
    ">>> board = [\n",
    "    ['X', '-', '-'],\n",
    "    ['O', 'O', '-'],\n",
    "    ['X', 'O', 'X']\n",
    "]\n",
    ">>> print(board[0][0], board[1][0], board[0][1])\n",
    "```"
   ]
  },
  {
   "cell_type": "markdown",
   "id": "34840df2-4257-4049-a25c-3b59bf103c99",
   "metadata": {
    "slideshow": {
     "slide_type": "subslide"
    },
    "tags": []
   },
   "source": [
    "> What does the following code print?\n",
    "```python\n",
    ">>> board = [\n",
    "    ['X', '-', '-'],\n",
    "    ['O', 'O', '-'],\n",
    "    ['X', 'O', 'X']\n",
    "]\n",
    ">>> print(board[0], board[1], board[2])\n",
    "```"
   ]
  },
  {
   "cell_type": "markdown",
   "id": "3589fc37-5034-4faf-bdfa-3fa886334cfc",
   "metadata": {
    "slideshow": {
     "slide_type": "subslide"
    },
    "tags": []
   },
   "source": [
    "What does the following code print?\n",
    "```python\n",
    "nested_list = []\n",
    "n = 4\n",
    "for i in range(n):\n",
    "    nested_list.append([])\n",
    "    nested_list[-1].extend(range(i))\n",
    "for row in nested_list:\n",
    "    print(row)\n",
    "```"
   ]
  },
  {
   "cell_type": "markdown",
   "id": "97a961c6-e1d7-4387-b1d7-bd606e00f5b4",
   "metadata": {
    "slideshow": {
     "slide_type": "subslide"
    },
    "tags": []
   },
   "source": [
    "> Write a function `create_row(n)` which returns a `list` of `n` `-` characters. \n",
    "```python\n",
    ">>> create_row(0)\n",
    "[]\n",
    ">>> create_row(1)\n",
    "['-']\n",
    ">>> create_row(3)\n",
    "['-', '-', '-']\n",
    "```"
   ]
  },
  {
   "cell_type": "code",
   "execution_count": null,
   "id": "62e367bb-6161-441f-9dc0-2d4eca211f4d",
   "metadata": {},
   "outputs": [],
   "source": [
    "def create_row(n: int):\n",
    "    # Your code goes here!\n",
    "    return []"
   ]
  },
  {
   "cell_type": "markdown",
   "id": "b8f4b9bb-4227-4c6e-97e1-b087c3c51cb7",
   "metadata": {
    "slideshow": {
     "slide_type": "slide"
    },
    "tags": []
   },
   "source": [
    "## Printing boards\n",
    "> It's often helpful for debugging to print the board that we have in a more interpretable way than the default python `print()` function. In the `print_board(board)` function below, I've written some skeleton code to help you print out boards of arbitrary width and height. "
   ]
  },
  {
   "cell_type": "code",
   "execution_count": 23,
   "id": "c77909fa-8285-4259-b8c6-f1f48f07372d",
   "metadata": {
    "slideshow": {
     "slide_type": "subslide"
    },
    "tags": []
   },
   "outputs": [
    {
     "name": "stdout",
     "output_type": "stream",
     "text": [
      "\u001b[4m-|-|-\u001b[0m\n",
      "\u001b[4m-|-|-\u001b[0m\n",
      "-|-|-\n"
     ]
    }
   ],
   "source": [
    "def print_board(board):\n",
    "    \"\"\"A debugging function to print you board in a pretty way\"\"\"\n",
    "    n = len(board)\n",
    "    end = '\\033[0m'\n",
    "    underline = '\\033[4m'\n",
    "    # For every row but the last\n",
    "    for row in board[:-1]:\n",
    "        # Print the row as a string with a line below\n",
    "        print(underline + \"|\".join(row) + end)\n",
    "    print(\"|\".join(board[-1]))\n",
    "    \n",
    "empty_board = [\n",
    "    ['-', '-', '-'],\n",
    "    ['-', '-', '-'],\n",
    "    ['-', '-', '-']\n",
    "]\n",
    "print_board(empty_board)"
   ]
  },
  {
   "cell_type": "markdown",
   "id": "eeeec25c-631e-4d69-9f1d-6c3512e37717",
   "metadata": {
    "slideshow": {
     "slide_type": "subslide"
    },
    "tags": []
   },
   "source": [
    "> Write a function `create_board(n)` which returns an `n` by `n` matrix `-` characters. \n",
    "```python\n",
    ">>> create_board(0)\n",
    "[]\n",
    ">>> create_board(1)\n",
    "[['-']]\n",
    ">>> create_board(3)\n",
    "[\n",
    "    ['-', '-', '-'],\n",
    "    ['-', '-', '-'],\n",
    "    ['-', '-', '-']\n",
    "]\n",
    "```"
   ]
  },
  {
   "cell_type": "code",
   "execution_count": null,
   "id": "9324f1a2-646d-4393-9792-b96834abd875",
   "metadata": {
    "slideshow": {
     "slide_type": "fragment"
    },
    "tags": []
   },
   "outputs": [],
   "source": [
    "def create_board(n: int):\n",
    "    # Your code goes here!\n",
    "    return "
   ]
  },
  {
   "cell_type": "markdown",
   "id": "1ba4b1e2-b1ef-4a5b-85b9-c8c721299722",
   "metadata": {
    "slideshow": {
     "slide_type": "subslide"
    },
    "tags": []
   },
   "source": [
    "> Write a function place_stone(board, row, col, stone) which returns a board identical to the input board with the exception that the element at $board_{i,j}$ is set to `stone`. **This function should not modify the input board!**. This function should also return `None` if $board_{i,j}$ is not `-` (i.e. we can't place a stone over another stone). \n",
    "```python\n",
    "board = [\n",
    "    ['-', '-', '-'],\n",
    "    ['-', '-', '-'],\n",
    "    ['-', '-', '-']\n",
    "]\n",
    ">>> place_stone(empty_board, 0, 0, \"X\")\n",
    "[]\n",
    ">>> place_stone(1)\n",
    "[['-']]\n",
    ">>> place_stone(3)\n",
    "```"
   ]
  },
  {
   "cell_type": "code",
   "execution_count": null,
   "id": "4744059a-1c6f-4198-934a-cf247d8eefb3",
   "metadata": {
    "slideshow": {
     "slide_type": "fragment"
    },
    "tags": []
   },
   "outputs": [],
   "source": [
    "def place_stone(board, row, col, stone):\n",
    "    # Your code goes here!\n",
    "    return "
   ]
  }
 ],
 "metadata": {
  "kernelspec": {
   "display_name": "Python 3 (ipykernel)",
   "language": "python",
   "name": "python3"
  },
  "language_info": {
   "codemirror_mode": {
    "name": "ipython",
    "version": 3
   },
   "file_extension": ".py",
   "mimetype": "text/x-python",
   "name": "python",
   "nbconvert_exporter": "python",
   "pygments_lexer": "ipython3",
   "version": "3.9.13"
  }
 },
 "nbformat": 4,
 "nbformat_minor": 5
}
