{
 "cells": [
  {
   "cell_type": "markdown",
   "metadata": {
    "slideshow": {
     "slide_type": "slide"
    },
    "tags": []
   },
   "source": [
    "# Control flow\n",
    "## The building blocks of algorithms\n"
   ]
  },
  {
   "cell_type": "markdown",
   "metadata": {
    "slideshow": {
     "slide_type": "slide"
    },
    "tags": []
   },
   "source": [
    "## The `if`-`then`-`else` block\n",
    "* Most algorithms can be broken down into `if`-`then` statements. \n",
    "* `if` we haven't found what we are looking for, `then` keep looking, `else` return the location of what we are looking for.\n",
    "* `if` there are more numbers to add up, `then` keep adding them\n",
    "* `if` we have too many students registered for a class, `then` don't let anyone else register"
   ]
  },
  {
   "cell_type": "markdown",
   "metadata": {
    "slideshow": {
     "slide_type": "subslide"
    },
    "tags": []
   },
   "source": [
    "### Code blocks\n",
    "* Logical sections of python are known as *blocks*, and are denoted by a `:` followed by a block of indented code.\n",
    "```python\n",
    "a = get_random_number()\n",
    "if a < 10:\n",
    "    a *= get_random_number()\n",
    "    print(a)\n",
    "else:\n",
    "    a /= get_random_number()\n",
    "    print(a)\n",
    "```"
   ]
  },
  {
   "cell_type": "markdown",
   "metadata": {
    "slideshow": {
     "slide_type": "subslide"
    },
    "tags": []
   },
   "source": [
    "### `if`, `elif`, `else`\n",
    "```python\n",
    "school = get_random_school()\n",
    "if school == \"UIUC\":\n",
    "    print(\"I-L-L\")\n",
    "    print(\"I-N-I\")\n",
    "elif school = \"Rice\":\n",
    "    print(\"Hoo\")\n",
    "    print(\"hooooo\")\n",
    "    print(\"HOOOOOOOOOOOO\")\n",
    "else:\n",
    "    print(\"Silence...\")\n",
    "```"
   ]
  },
  {
   "cell_type": "markdown",
   "metadata": {
    "slideshow": {
     "slide_type": "slide"
    },
    "tags": []
   },
   "source": [
    "## Conditional loops\n",
    "* `for` and `while` "
   ]
  },
  {
   "cell_type": "markdown",
   "metadata": {
    "slideshow": {
     "slide_type": "subslide"
    },
    "tags": []
   },
   "source": [
    "### The `while` loop\n",
    "```python\n",
    "while <boolean>: \n",
    "    do_some_stuff()\n",
    "```\n",
    "For example,\n",
    "\n",
    "```python\n",
    "num = get_random_number()\n",
    "while (num != 1):\n",
    "    # The modulo operator (%) calculates the remainder from division.\n",
    "    # i.e. 10 % 2  would evaluate to 0, and 10 % 3 would evaluate to 1\n",
    "    if num % 2 == 0:\n",
    "        num /= 2\n",
    "    else:\n",
    "        num = (num * 3) + 1\n",
    "```"
   ]
  },
  {
   "cell_type": "code",
   "execution_count": 66,
   "metadata": {
    "slideshow": {
     "slide_type": "subslide"
    },
    "tags": []
   },
   "outputs": [
    {
     "name": "stdout",
     "output_type": "stream",
     "text": [
      "1.0\n"
     ]
    }
   ],
   "source": [
    "num = 12345\n",
    "while (num != 1):\n",
    "    print(num, end=' -> ')\n",
    "    \n",
    "    # The modulo operator (%) calculates the remainder from division.\n",
    "    # i.e. 10 % 2  would evaluate to 0, and 10 % 3 would evaluate to 1\n",
    "    if num % 2 == 0:\n",
    "        num /= 2\n",
    "    else:\n",
    "        num = (num * 3) + 1\n",
    "print(num)\n"
   ]
  },
  {
   "cell_type": "markdown",
   "metadata": {
    "slideshow": {
     "slide_type": "subslide"
    },
    "tags": []
   },
   "source": [
    "### The `for` loop\n",
    "```python\n",
    "for item in <iterable>:\n",
    "    do_something(item)\n",
    "```"
   ]
  },
  {
   "cell_type": "code",
   "execution_count": 64,
   "metadata": {
    "slideshow": {
     "slide_type": "subslide"
    },
    "tags": []
   },
   "outputs": [
    {
     "name": "stdout",
     "output_type": "stream",
     "text": [
      "n is not a DNA character!\n",
      "A = 4\n",
      "T = 3\n",
      "C = 2\n",
      "G = 3\n"
     ]
    }
   ],
   "source": [
    "# The following line is termed as \"chained assignment\", \n",
    "# where each of the variables on the left is assigned the value of the rightmost expression\n",
    "a_count = t_count = c_count = g_count = 0\n",
    "\n",
    "# A string is an iterable, we can iterate over each letter\n",
    "dna = \"ATGGCTAnGACTA\"\n",
    "for character in dna:\n",
    "    if character == \"A\":\n",
    "        a_count += 1\n",
    "    elif character == \"T\":\n",
    "        t_count += 1\n",
    "    elif character == \"C\":\n",
    "        c_count += 1\n",
    "    elif character == \"G\":\n",
    "        g_count += 1\n",
    "    else:\n",
    "        print(character, \"is not a DNA character!\")\n",
    "print(\"A =\", str(a_count))\n",
    "print(\"T =\", str(t_count))\n",
    "print(\"C =\", str(c_count))\n",
    "print(\"G =\", str(g_count))"
   ]
  },
  {
   "cell_type": "markdown",
   "metadata": {
    "slideshow": {
     "slide_type": "subslide"
    },
    "tags": []
   },
   "source": [
    "#### A helpful iterable\n",
    "* `range()` is a helpful function that gives you a \"range\" of numbers. \n",
    "* We'll look at the simple case first, where we use it to get the numbers `0...n`"
   ]
  },
  {
   "cell_type": "code",
   "execution_count": 34,
   "metadata": {},
   "outputs": [
    {
     "name": "stdout",
     "output_type": "stream",
     "text": [
      "0\n",
      "1\n",
      "2\n",
      "3\n",
      "4\n",
      "5\n"
     ]
    }
   ],
   "source": [
    "for i in range(6):\n",
    "    print(i)"
   ]
  },
  {
   "cell_type": "markdown",
   "metadata": {
    "slideshow": {
     "slide_type": "subslide"
    },
    "tags": []
   },
   "source": [
    "* But sometimes we don't want to start at 0. What if we only want to look at all 2-digit numbers?\n",
    "* Well, there's another *signature* of `range()`\n",
    "> `range(start, stop, [step])\n",
    "* In python documentation, arguments to functions that are in brackets `[]` are *optional* arguments."
   ]
  },
  {
   "cell_type": "code",
   "execution_count": 47,
   "metadata": {},
   "outputs": [
    {
     "name": "stdout",
     "output_type": "stream",
     "text": [
      "4\n",
      "5\n",
      "6\n",
      "7\n"
     ]
    }
   ],
   "source": [
    "for i in range(4, 8):\n",
    "    print(i)"
   ]
  },
  {
   "cell_type": "code",
   "execution_count": 49,
   "metadata": {},
   "outputs": [
    {
     "name": "stdout",
     "output_type": "stream",
     "text": [
      "1\n",
      "3\n",
      "5\n",
      "7\n"
     ]
    }
   ],
   "source": [
    "for i in range(1, 8, 2):\n",
    "    print(i)"
   ]
  },
  {
   "cell_type": "markdown",
   "metadata": {
    "slideshow": {
     "slide_type": "slide"
    },
    "tags": []
   },
   "source": [
    "#### Nested blocks\n",
    "* All code blocks can be *nested*, i.e. one block within another"
   ]
  },
  {
   "cell_type": "code",
   "execution_count": 31,
   "metadata": {},
   "outputs": [
    {
     "name": "stdout",
     "output_type": "stream",
     "text": [
      "AA is a pair of nucleotides\n",
      "AT is a pair of nucleotides\n",
      "AG is a pair of nucleotides\n",
      "AC is a pair of nucleotides\n",
      "TA is a pair of nucleotides\n",
      "TT is a pair of nucleotides\n",
      "TG is a pair of nucleotides\n",
      "TC is a pair of nucleotides\n",
      "GA is a pair of nucleotides\n",
      "GT is a pair of nucleotides\n",
      "GG is a pair of nucleotides\n",
      "GC is a pair of nucleotides\n",
      "CA is a pair of nucleotides\n",
      "CT is a pair of nucleotides\n",
      "CG is a pair of nucleotides\n",
      "CC is a pair of nucleotides\n"
     ]
    }
   ],
   "source": [
    "for char1 in \"ATGC\":\n",
    "    for char2 in \"ATGC\":\n",
    "        print (char1 + char2, \"is a pair of nucleotides\")"
   ]
  },
  {
   "cell_type": "code",
   "execution_count": 33,
   "metadata": {
    "slideshow": {
     "slide_type": "subslide"
    },
    "tags": []
   },
   "outputs": [
    {
     "name": "stdout",
     "output_type": "stream",
     "text": [
      "    * \n",
      "   * * \n",
      "  * * * \n",
      " * * * * \n",
      "* * * * * \n"
     ]
    }
   ],
   "source": [
    "# Printing a triangle, source Geeksforgeeks\n",
    "n = 5\n",
    "# number of spaces\n",
    "k = n - 1\n",
    "\n",
    "# outer loop to handle number of rows\n",
    "for i in range(0, n):\n",
    "\n",
    "    # inner loop to handle number spaces\n",
    "    # values changing acc. to requirement\n",
    "    for j in range(0, k):\n",
    "        print(end=\" \")\n",
    "\n",
    "    # decrementing k after each loop\n",
    "    k = k - 1\n",
    "\n",
    "    # inner loop to handle number of columns\n",
    "    # values changing acc. to outer loop\n",
    "    for j in range(0, i+1):\n",
    "\n",
    "        # printing stars\n",
    "        print(\"* \", end=\"\")\n",
    "\n",
    "    # ending line after each row\n",
    "    print()"
   ]
  },
  {
   "cell_type": "markdown",
   "metadata": {
    "slideshow": {
     "slide_type": "slide"
    },
    "tags": []
   },
   "source": [
    "### `break` and `continue`\n",
    "* `break` will exit the loop\n",
    "* `continue` will jump to the start of the loop"
   ]
  },
  {
   "cell_type": "code",
   "execution_count": 16,
   "metadata": {},
   "outputs": [
    {
     "name": "stdout",
     "output_type": "stream",
     "text": [
      "A\n",
      "T\n",
      "A\n",
      "T\n"
     ]
    }
   ],
   "source": [
    "for char in \"AcgcggcgcTcgAgggTgbgcgA\":\n",
    "    if char == \"b\":\n",
    "        break\n",
    "    elif char != \"A\" and char != \"T\":\n",
    "        continue\n",
    "    print(char)"
   ]
  },
  {
   "cell_type": "markdown",
   "metadata": {
    "slideshow": {
     "slide_type": "subslide"
    },
    "tags": []
   },
   "source": [
    "What would happen if we swapped the blocks?\n",
    "```python\n",
    "for char in \"AcgcggcgcTcgAgggTgbgcgA\":\n",
    "    if char != \"A\" and char != \"T\":\n",
    "        continue\n",
    "    elif char == \"b\":\n",
    "        break\n",
    "    print(char)\n",
    "```"
   ]
  },
  {
   "cell_type": "code",
   "execution_count": 17,
   "metadata": {
    "slideshow": {
     "slide_type": "subslide"
    },
    "tags": []
   },
   "outputs": [
    {
     "name": "stdout",
     "output_type": "stream",
     "text": [
      "A\n",
      "T\n",
      "A\n",
      "T\n",
      "A\n"
     ]
    }
   ],
   "source": [
    "for char in \"AcgcggcgcTcgAgggTgbgcgA\":\n",
    "    if char != \"A\" and char != \"T\": \n",
    "        continue\n",
    "        \n",
    "    # We'll never see char == \"b\" since if that were true, the if statement above would execute!\n",
    "    elif char == \"b\":\n",
    "        break\n",
    "    print(char)"
   ]
  },
  {
   "cell_type": "markdown",
   "metadata": {
    "slideshow": {
     "slide_type": "slide"
    },
    "tags": []
   },
   "source": [
    "## Problems"
   ]
  },
  {
   "cell_type": "markdown",
   "metadata": {
    "slideshow": {
     "slide_type": "subslide"
    },
    "tags": []
   },
   "source": [
    "### Problem 1\n",
    "> 2520 is the smallest number that can be divided by each of the numbers from 1 to 10 without any remainder.\n",
    "What is the smallest positive number that is evenly divisible by all of the numbers from 1 to 15?"
   ]
  },
  {
   "cell_type": "markdown",
   "metadata": {
    "slideshow": {
     "slide_type": "fragment"
    },
    "tags": []
   },
   "source": [
    "Lets rephrase the question to make it easier to solve:\n",
    "> Given a number `num`, what is the lowest number that `num` is not evenly divisible by?\n",
    "\n",
    "Lets have `num = 479001600` to start."
   ]
  },
  {
   "cell_type": "code",
   "execution_count": 52,
   "metadata": {
    "slideshow": {
     "slide_type": "fragment"
    },
    "tags": []
   },
   "outputs": [
    {
     "name": "stdout",
     "output_type": "stream",
     "text": [
      "479001600 is divisible by all numbers less than 13 but not divisible by 13\n"
     ]
    }
   ],
   "source": [
    "num = 479001600\n",
    "div = 1\n",
    "while True:\n",
    "    if num % div == 0: \n",
    "        div += 1\n",
    "    else:\n",
    "        break\n",
    "print(num, \"is divisible by all numbers less than\", div, \"but not divisible by\", div)\n",
    "    "
   ]
  },
  {
   "cell_type": "markdown",
   "metadata": {
    "slideshow": {
     "slide_type": "subslide"
    },
    "tags": []
   },
   "source": [
    "At the end of the loop, we've successfully split up `num` into equal parts for all numbers less than `div`! Now we just need to find the smallest number `n` for which `div >= 16`."
   ]
  },
  {
   "cell_type": "code",
   "execution_count": 60,
   "metadata": {
    "slideshow": {
     "slide_type": "fragment"
    },
    "tags": []
   },
   "outputs": [
    {
     "name": "stdout",
     "output_type": "stream",
     "text": [
      "We've crunched 100000 numbers so far...\n",
      "We've crunched 200000 numbers so far...\n",
      "We've crunched 300000 numbers so far...\n",
      "360360 is our winner!\n"
     ]
    }
   ],
   "source": [
    "num = 1\n",
    "while True:\n",
    "    # For each new number we are testing, we need to reset our divisor to 1\n",
    "    div = 1\n",
    "    \n",
    "    # This is the loop we constructed previously\n",
    "    while True:\n",
    "        if num % div == 0: \n",
    "            div += 1\n",
    "        else:\n",
    "            break\n",
    "            \n",
    "    # Check if we found a winner\n",
    "    if div >= 16:\n",
    "        print(num, \"is our winner!\")\n",
    "        break\n",
    "        \n",
    "    # If num isn't a winner, increment and start the process over\n",
    "    else:\n",
    "        num += 1\n",
    "        \n",
    "    # Sometimes it is nice to check the progress of your loop...\n",
    "    if num % 1e5 == 0:\n",
    "        print(\"We've crunched\", num, \"numbers so far...\")"
   ]
  },
  {
   "cell_type": "markdown",
   "metadata": {
    "slideshow": {
     "slide_type": "subslide"
    },
    "tags": []
   },
   "source": [
    "### Problem 2\n",
    "Let `s = \"s.title() Will Capitalize The First Letter Of Every Word\"`, count how many lower case letters there are in `s`."
   ]
  },
  {
   "cell_type": "markdown",
   "metadata": {
    "slideshow": {
     "slide_type": "fragment"
    },
    "tags": []
   },
   "source": [
    "* If I give you a letter, how can you tell me if it lowercase using `upper()` or `lower()`?"
   ]
  },
  {
   "cell_type": "code",
   "execution_count": 8,
   "metadata": {
    "slideshow": {
     "slide_type": "fragment"
    },
    "tags": []
   },
   "outputs": [
    {
     "name": "stdout",
     "output_type": "stream",
     "text": [
      "37\n"
     ]
    }
   ],
   "source": [
    "s = \"s.title() Will Capitalize The First Letter Of Every Word\"\n",
    "lower_count = 0\n",
    "for char in s:\n",
    "    if char == \".\" or char == \"(\" or char == \")\" or char == \"=\" or char == ' ':\n",
    "        continue\n",
    "    if char == char.lower():\n",
    "        lower_count += 1\n",
    "print(lower_count)"
   ]
  },
  {
   "cell_type": "markdown",
   "metadata": {
    "slideshow": {
     "slide_type": "subslide"
    },
    "tags": []
   },
   "source": [
    "Introducing `str.isalpha()`"
   ]
  },
  {
   "cell_type": "code",
   "execution_count": 9,
   "metadata": {},
   "outputs": [
    {
     "name": "stdout",
     "output_type": "stream",
     "text": [
      "37\n"
     ]
    }
   ],
   "source": [
    "s = \"s.title() Will Capitalize The First Letter Of Every Word\"\n",
    "lower_count = 0\n",
    "for char in s:\n",
    "    if char.isalpha() and char == char.lower():\n",
    "        lower_count += 1\n",
    "print(lower_count)"
   ]
  },
  {
   "cell_type": "markdown",
   "metadata": {
    "slideshow": {
     "slide_type": "subslide"
    },
    "tags": []
   },
   "source": [
    "Introducing `str.islower()`"
   ]
  },
  {
   "cell_type": "code",
   "execution_count": 11,
   "metadata": {},
   "outputs": [
    {
     "name": "stdout",
     "output_type": "stream",
     "text": [
      "37\n"
     ]
    }
   ],
   "source": [
    "s = \"s.title() Will Capitalize The First Letter Of Every Word\"\n",
    "lower_count = 0\n",
    "for char in s:\n",
    "    if char.islower():\n",
    "        lower_count += 1\n",
    "print(lower_count)"
   ]
  },
  {
   "cell_type": "markdown",
   "metadata": {
    "slideshow": {
     "slide_type": "subslide"
    },
    "tags": []
   },
   "source": [
    "### Problem 3\n",
    "We saw earlier how to print a triangle. How would we print one that is upside-down?"
   ]
  },
  {
   "cell_type": "code",
   "execution_count": 38,
   "metadata": {
    "slideshow": {
     "slide_type": "subslide"
    },
    "tags": []
   },
   "outputs": [
    {
     "name": "stdout",
     "output_type": "stream",
     "text": [
      "* * * * * \n",
      " * * * * \n",
      "  * * * \n",
      "   * * \n",
      "    * \n"
     ]
    }
   ],
   "source": [
    "n = 5\n",
    "# number of spaces\n",
    "k = 0\n",
    "\n",
    "# outer loop to handle number of rows\n",
    "for i in range(0, n):\n",
    "    # Need to work in reverse, so comp_i = n - i\n",
    "    comp_i = n - (i + 1)\n",
    "    \n",
    "    # inner loop to handle number spaces\n",
    "    # values changing acc. to requirement\n",
    "    for j in range(0, k):\n",
    "        print(end=\" \")\n",
    "\n",
    "    # decrementing k after each loop\n",
    "    k += 1\n",
    "\n",
    "    # inner loop to handle number of columns\n",
    "    # values changing acc. to outer loop\n",
    "    for j in range(0, comp_i+1):\n",
    "\n",
    "        # printing stars\n",
    "        print(\"* \", end=\"\")\n",
    "\n",
    "    # ending line after each row\n",
    "    print()"
   ]
  },
  {
   "cell_type": "markdown",
   "metadata": {
    "slideshow": {
     "slide_type": "subslide"
    },
    "tags": []
   },
   "source": [
    "### Problem 4\n",
    "> A palindromic number reads the same both ways. The largest palindrome made from the product of two 2-digit numbers is 9009 = 91 × 99.\n",
    "Find the largest palindrome made from the product of two 3-digit numbers."
   ]
  },
  {
   "cell_type": "markdown",
   "metadata": {
    "slideshow": {
     "slide_type": "fragment"
    },
    "tags": []
   },
   "source": [
    "First we should figure out how to tell if a number is a palindrome. We will use the fact that we can cast an integer to a string using `str()`\n"
   ]
  },
  {
   "cell_type": "code",
   "execution_count": 62,
   "metadata": {
    "slideshow": {
     "slide_type": "subslide"
    },
    "tags": []
   },
   "outputs": [
    {
     "name": "stdout",
     "output_type": "stream",
     "text": [
      "0, 1, 2, 3, 4, 5, 6, 7, 8, 9, 11, 22, 33, 44, 55, 66, 77, 88, 99, 101, 111, 121, 131, 141, 151, 161, 171, 181, 191, 202, 212, 222, 232, 242, 252, 262, 272, 282, 292, 303, 313, 323, 333, 343, 353, 363, 373, 383, 393, 404, 414, 424, 434, 444, 454, 464, 474, 484, 494, 505, 515, 525, 535, 545, 555, 565, 575, 585, 595, 606, 616, 626, 636, 646, 656, 666, 676, 686, 696, 707, 717, 727, 737, 747, 757, 767, 777, 787, 797, 808, 818, 828, 838, 848, 858, 868, 878, 888, 898, 909, 919, 929, 939, 949, 959, 969, 979, 989, 999, "
     ]
    }
   ],
   "source": [
    "# Lets just start with the palindromes less than 1000\n",
    "for num in range(1000):\n",
    "    # Cast the integer number to a string\n",
    "    str_num = str(num)\n",
    "    \n",
    "    # is_palindrome is known as a \"flag\" variable.\n",
    "    # We will set it to False to let us know when a number failed the test\n",
    "    is_palindrome = True\n",
    "    \n",
    "    # A number is a palindrome if number[i] == number[-(i+1)] for all i\n",
    "    for i in range(0, len(str_num)):\n",
    "        if str_num[i] != str_num[-(i + 1)]:\n",
    "            is_palindrome = False\n",
    "            break\n",
    "    if is_palindrome:\n",
    "        print(str_num, end=\", \")\n",
    "        "
   ]
  },
  {
   "cell_type": "markdown",
   "metadata": {
    "slideshow": {
     "slide_type": "subslide"
    },
    "tags": []
   },
   "source": [
    "Now we just need to loop over all pairs of 3 digit numbers, compute their product, and then use the above code to determine if the product is a palindrome!"
   ]
  },
  {
   "cell_type": "code",
   "execution_count": 63,
   "metadata": {
    "slideshow": {
     "slide_type": "fragment"
    },
    "tags": []
   },
   "outputs": [
    {
     "name": "stdout",
     "output_type": "stream",
     "text": [
      "906609\n"
     ]
    }
   ],
   "source": [
    "# We will store the largest palindrome here\n",
    "largest = 0\n",
    "\n",
    "for a in range(100, 1001):\n",
    "    for b in range(100, 1001):\n",
    "        num = a * b\n",
    "        # Cast the product to a string\n",
    "        str_num = str(num)\n",
    "        \n",
    "        # is_palindrome is known as a \"flag\" variable.\n",
    "        # We will set it to False to let us know when a number failed the test\n",
    "        is_palindrome = True\n",
    "        \n",
    "        # A number is a palindrome if number[i] == number[-(i+1)] for all i\n",
    "        for i in range(0, len(str_num)):\n",
    "            if str_num[i] != str_num[len(str_num) - i - 1]:\n",
    "                is_palindrome = False\n",
    "                break\n",
    "        \n",
    "        # Only replace if our newfound palindrome is greater than the largest \n",
    "        # seen this far\n",
    "        if is_palindrome and a * b > largest:\n",
    "            largest = a * b\n",
    "print(largest)"
   ]
  }
 ],
 "metadata": {
  "kernelspec": {
   "display_name": "Python 3",
   "language": "python",
   "name": "python3"
  },
  "language_info": {
   "codemirror_mode": {
    "name": "ipython",
    "version": 3
   },
   "file_extension": ".py",
   "mimetype": "text/x-python",
   "name": "python",
   "nbconvert_exporter": "python",
   "pygments_lexer": "ipython3",
   "version": "3.7.6"
  }
 },
 "nbformat": 4,
 "nbformat_minor": 4
}
