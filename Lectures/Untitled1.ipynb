{
 "cells": [
  {
   "cell_type": "code",
   "execution_count": 10,
   "id": "ace48241-7af5-484b-873f-7c0bafbeed3c",
   "metadata": {},
   "outputs": [],
   "source": [
    "def find_motifs(strs, k):\n",
    "    motifs = set(strs[0][i:i + k] for i in range(len(strs[0]) - k + 1))\n",
    "    for s in strs[1:]:\n",
    "        s_motifs = set()\n",
    "        for i in range(len(s) - k + 1):\n",
    "            s_motifs.add(s[i:i + k])\n",
    "        motifs.intersection_update(s_motifs)\n",
    "            \n",
    "    return motifs"
   ]
  },
  {
   "cell_type": "code",
   "execution_count": 14,
   "id": "7c978969-8868-4e9a-8a7a-db255b69f784",
   "metadata": {},
   "outputs": [
    {
     "data": {
      "text/plain": [
       "{'ATA', 'TAT'}"
      ]
     },
     "execution_count": 14,
     "metadata": {},
     "output_type": "execute_result"
    }
   ],
   "source": [
    "find_motifs([\"GATATCGA\", \"ATAT\", \"GACATATC\"], 3)"
   ]
  },
  {
   "cell_type": "code",
   "execution_count": 19,
   "id": "dcdab3f9-3969-4d1b-9bfa-07c2c464c958",
   "metadata": {},
   "outputs": [
    {
     "data": {
      "text/plain": [
       "['BK', 'EX', 'AK', 'EX', 'BK', 'AK', 'AK', 'EX']"
      ]
     },
     "execution_count": 19,
     "metadata": {},
     "output_type": "execute_result"
    }
   ],
   "source": [
    "import random\n",
    "random.choices([\"BK\", \"EX\", \"AK\"], k=8)"
   ]
  }
 ],
 "metadata": {
  "kernelspec": {
   "display_name": "Python 3",
   "language": "python",
   "name": "python3"
  },
  "language_info": {
   "codemirror_mode": {
    "name": "ipython",
    "version": 3
   },
   "file_extension": ".py",
   "mimetype": "text/x-python",
   "name": "python",
   "nbconvert_exporter": "python",
   "pygments_lexer": "ipython3",
   "version": "3.7.6"
  }
 },
 "nbformat": 4,
 "nbformat_minor": 5
}
