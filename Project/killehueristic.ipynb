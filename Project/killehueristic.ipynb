{
 "cells": [
  {
   "cell_type": "code",
   "execution_count": 3,
   "metadata": {},
   "outputs": [],
   "source": [
    "from termcolor import cprint\n",
    "\n",
    "def print_board(board, bolded=None):\n",
    "    \"\"\"A debugging function to print you board in a pretty way\"\"\"\n",
    "    n = len(board)\n",
    "    # For every row but the last\n",
    "    for row_idx, row in enumerate(board[:-1]):\n",
    "        # Print the row as a string with a line below\n",
    "        if bolded and row_idx==bolded[0]:\n",
    "            cprint(\"|\".join(row[:bolded[1]]), None, attrs=[\"underline\"], end='|' if bolded[1] != 0 else '')\n",
    "            cprint(row[bolded[1]], None, attrs=[\"underline\", \"bold\"], end='')\n",
    "            if bolded[1] != len(row) - 1:\n",
    "                cprint(\"|\" + \"|\".join(row[bolded[1]+1:]), None, attrs=[\"underline\"], end='')\n",
    "            print()\n",
    "        else:\n",
    "            cprint(\"|\".join(row), None, attrs=[\"underline\"])\n",
    "    row = board[-1]\n",
    "    if bolded and bolded[0] == len(board) - 1:\n",
    "        print(\"|\".join(row[:bolded[1]]), end='|' if bolded[1] != 0 else '')\n",
    "        cprint(row[bolded[1]], None, attrs=[\"bold\"], end='')\n",
    "        if bolded[1] != len(row) - 1:\n",
    "            cprint(\"|\" + \"|\".join(row[bolded[1]+1:]), None, end='')\n",
    "        print()\n",
    "    else:\n",
    "        print(\"|\".join(row))\n",
    "\n",
    "\n",
    "def other_stone(stone):\n",
    "    return \"X\" if stone == \"O\" else \"O\"\n",
    "\n",
    "def consecutive_k(row, k, stone):\n",
    "    desired_row = [stone] * k\n",
    "    return sum(desired_row == row[i:i+k] for i in range(len(row) - k + 1))\n",
    "\n",
    "def live_k(row, k, stone):\n",
    "    desired_row = ['-'] + [stone] * k + ['-']\n",
    "    return sum(desired_row == row[i:i+k + 2] for i in range(len(row) - k - 1))\n",
    "\n",
    "def dead_k(row, k, stone):\n",
    "    full_open = ['-'] + [stone] * k + ['-']\n",
    "    count = 0\n",
    "    for i in range(len(row) - k):\n",
    "        row_slice = row[i:i+k+1]\n",
    "        count += (row_slice.count('-') == 1 and row_slice.count(stone) == k)\n",
    "    \n",
    "    return count\n",
    "\n",
    "def get_downdiag(board, row_idx, col_idx):\n",
    "    return [board[row_idx + i][col_idx + i] for i in range(min(len(board) - row_idx, len(board) - col_idx))]\n",
    "\n",
    "def get_updiag(board, row_idx, col_idx):\n",
    "    return [board[row_idx - i][col_idx + i] for i in range(min(row_idx + 1, len(board) - col_idx))]\n",
    "\n",
    "def winner_stone(board, stone):\n",
    "    k_count = 0\n",
    "    k = 5\n",
    "    for row in board:\n",
    "        row = list(row)\n",
    "        k_count += consecutive_k(row, k, stone)\n",
    "\n",
    "    for col_idx in range(len(board)):\n",
    "        bl = [row[col_idx] for row in board]\n",
    "        k_count += consecutive_k(bl, k, stone)\n",
    "\n",
    "    for row_idx in range(len(board)):\n",
    "        bl = get_updiag(board, row_idx, 0)\n",
    "        k_count += consecutive_k(bl, k, stone)\n",
    "        bl = get_downdiag(board, row_idx, 0)\n",
    "        k_count += consecutive_k(bl, k, stone)\n",
    "\n",
    "    for col_idx in range(len(board[0])):\n",
    "        bl = get_updiag(board, len(board) - 1, col_idx)\n",
    "        k_count += consecutive_k(bl, k, stone)\n",
    "        bl = get_downdiag(board, 0, col_idx)\n",
    "        k_count += consecutive_k(bl, k, stone)\n",
    "    \n",
    "    return k_count > 0\n",
    "\n",
    "def complete_board(board):\n",
    "    return winner_stone(board, \"X\") or winner_stone(board, \"O\") or not any('-' in row for row in board)\n"
   ]
  },
  {
   "cell_type": "code",
   "execution_count": 24,
   "metadata": {},
   "outputs": [],
   "source": [
    "import random\n",
    "import heapq\n",
    "import numpy as np\n",
    "from tqdm.notebook import tqdm\n",
    "import copy\n",
    "\n",
    "class Strategy:\n",
    "    def __init__(self, stone, max_depth=1):\n",
    "        self.stone = stone\n",
    "        self.opponent_stone = other_stone(stone)\n",
    "        self.max_depth = max_depth\n",
    "        self.nodes = 0\n",
    "        self.pruned = 0\n",
    "    \n",
    "    def eval_board(self, board, stone):\n",
    "        retval = 0\n",
    "        consecutive_5 = 0\n",
    "        live_dict = {2: 10, 3: 100, 4: 10000, 5: 50000}\n",
    "        dead_dict = {2: 5, 3: 50, 4: 10000, 5: 50000}\n",
    "        live_count = {2: 0, 3: 0, 4: 0, 5: 0}\n",
    "        dead_count = {2: 0, 3: 0, 4: 0, 5: 0}\n",
    "        stone_p = other_stone(stone)\n",
    "        for k in range(2, 6):\n",
    "            for row in board:\n",
    "                row = list(row)\n",
    "                live_count[k]  += live_k(row, k, stone)\n",
    "                dead_count[k] += dead_k(row, k, stone)\n",
    "                consecutive_5 += consecutive_k(row, 5, stone)\n",
    "                \n",
    "            for col_idx in range(len(board)):\n",
    "                bl = [row[col_idx] for row in board]\n",
    "                live_count[k]  += live_k(bl, k, stone)\n",
    "                dead_count[k] += dead_k(bl, k, stone)\n",
    "                consecutive_5 += consecutive_k(bl, 5, stone)\n",
    "                \n",
    "            for row_idx in range(len(board)):\n",
    "                bl = get_updiag(board, row_idx, 0)\n",
    "                live_count[k]  += live_k(bl, k, stone)\n",
    "                dead_count[k] += dead_k(bl, k, stone)\n",
    "                consecutive_5 += consecutive_k(bl, 5, stone)\n",
    "                bl = get_downdiag(board, row_idx, 0)\n",
    "                live_count[k]  += live_k(bl, k, stone)\n",
    "                dead_count[k] += dead_k(bl, k, stone)\n",
    "                consecutive_5 += consecutive_k(bl, 5, stone)\n",
    "            \n",
    "            for col_idx in range(len(board[0])):\n",
    "                bl = get_updiag(board, len(board) - 1, col_idx)\n",
    "                live_count[k]  += live_k(bl, k, stone)\n",
    "                dead_count[k] += dead_k(bl, k, stone)\n",
    "                consecutive_5 += consecutive_k(bl, 5, stone)\n",
    "                bl = get_downdiag(board, 0, col_idx)\n",
    "                live_count[k]  += live_k(bl, k, stone)\n",
    "                dead_count[k] += dead_k(bl, k, stone)\n",
    "                consecutive_5 += consecutive_k(bl, 5, stone)\n",
    "                \n",
    "            if live_count[k]:\n",
    "                retval += live_dict[k]\n",
    "            if dead_count[k]:\n",
    "                retval += dead_dict[k]\n",
    "        #print(live_count, dead_count)\n",
    "        if consecutive_5:\n",
    "             return 100000000\n",
    "        live_dict = {2: 10, 3: 100, 4: 10000, 5: 50000}\n",
    "        dead_dict = {2: 5, 3: 50, 4: 10000, 5: 50000}\n",
    "        live_count = {2: 0, 3: 0, 4: 0, 5: 0}\n",
    "        dead_count = {2: 0, 3: 0, 4: 0, 5: 0}\n",
    "        for k in range(2, 5):\n",
    "            for row in board:\n",
    "                row = list(row)\n",
    "                live_count[k]  += live_k(row, k, stone_p)\n",
    "                dead_count[k] += dead_k(row, k, stone_p)\n",
    "                consecutive_5 += consecutive_k(row, 5, stone_p)\n",
    "            \n",
    "            for col_idx in range(len(board)):\n",
    "                bl = [row[col_idx] for row in board]\n",
    "                live_count[k]  += live_k(bl, k, stone_p)\n",
    "                dead_count[k] += dead_k(bl, k, stone_p)\n",
    "                consecutive_5 += consecutive_k(bl, 5, stone_p)\n",
    "            \n",
    "            for row_idx in range(len(board)):\n",
    "                bl = get_updiag(board, row_idx, 0)\n",
    "                live_count[k]  += live_k(bl, k, stone_p)\n",
    "                dead_count[k] += dead_k(bl, k, stone_p)\n",
    "                consecutive_5 += consecutive_k(bl, 5, stone_p)\n",
    "                bl = get_downdiag(board, row_idx, 0)\n",
    "                live_count[k]  += live_k(bl, k, stone_p)\n",
    "                dead_count[k] += dead_k(bl, k, stone_p)\n",
    "                consecutive_5 += consecutive_k(bl, 5, stone_p)\n",
    "\n",
    "            for col_idx in range(len(board[0])):\n",
    "                bl = get_updiag(board, len(board) - 1, col_idx)\n",
    "                live_count[k]  += live_k(bl, k, stone_p)\n",
    "                dead_count[k] += dead_k(bl, k, stone_p)\n",
    "                consecutive_5 += consecutive_k(row, 5, stone_p)\n",
    "                bl = get_downdiag(board, 0, col_idx)\n",
    "                live_count[k]  += live_k(bl, k, stone_p)\n",
    "                dead_count[k] += dead_k(bl, k, stone_p)\n",
    "                consecutive_5 += consecutive_k(bl, 5, stone_p)\n",
    "            \n",
    "            if live_count[k]:\n",
    "                retval -= live_dict[k]\n",
    "            if dead_count[k]:\n",
    "                retval -= dead_dict[k]\n",
    "        if consecutive_5:\n",
    "                return -10000000\n",
    "        \n",
    "        return retval #+ random.random()\n",
    "    \n",
    "    def minmax_search(self, board, depth, stone, alpha=0, beta=0):\n",
    "        #print_board(board)\n",
    "        if depth == 0 or complete_board(board):\n",
    "            score = self.eval_board(board, stone)\n",
    "            score = -score if stone == self.opponent_stone else score\n",
    "            return score, (None, None)\n",
    "        \n",
    "        row_arr, col_arr = np.where(board == '-')\n",
    "        open_spaces = zip(row_arr, col_arr)\n",
    "        \n",
    "        if stone == self.stone:\n",
    "            best_score = -np.infty\n",
    "            best_move = (0,0)\n",
    "            for row, col in open_spaces:\n",
    "                new_board = copy.deepcopy(board)\n",
    "                new_board[row][col] = stone\n",
    "                score, move = self.minmax_search(new_board, depth-1, other_stone(stone))\n",
    "                if score >= best_score:\n",
    "                    best_move = (row, col)\n",
    "                    best_score = score\n",
    "        else:\n",
    "            best_score = np.infty\n",
    "            best_move = (0,0)\n",
    "            for row, col in open_spaces:\n",
    "                new_board = copy.deepcopy(board)\n",
    "                new_board[row][col] = stone\n",
    "                score, move = self.minmax_search(new_board, depth-1, other_stone(stone))\n",
    "                if score <= best_score:\n",
    "                    best_move = (row, col)\n",
    "                    best_score = score\n",
    "        return best_score, best_move\n",
    "        \n",
    "        \n",
    "    def alphabeta_search(self, board, depth, stone, alpha, beta):\n",
    "        if depth == 0 or complete_board(board):\n",
    "            score = self.eval_board(board, stone)\n",
    "            score = -score if stone == self.opponent_stone else score\n",
    "            self.nodes += 1\n",
    "            return score, (None, None)\n",
    "        \n",
    "        row_arr, col_arr = np.where(board == '-')\n",
    "        open_spaces = list(zip(row_arr, col_arr))\n",
    "        if stone == self.stone:\n",
    "            best_score = -np.infty\n",
    "            best_move = (None, None)\n",
    "            lop = len(open_spaces)\n",
    "            c = 0\n",
    "            for row, col in tqdm(open_spaces) if depth == 3 else open_spaces:\n",
    "                new_board = copy.deepcopy(board)\n",
    "                new_board[row][col] = stone\n",
    "                score, move = self.alphabeta_search(new_board, depth-1, other_stone(stone), alpha, beta)\n",
    "                if depth==3:\n",
    "                    print(f\"{row},{col} yields {score}, alpha={alpha}, beta={beta}\")\n",
    "                best_score = max(score, best_score)\n",
    "                if best_score >= beta:\n",
    "                    self.pruned += (lop - c)**depth\n",
    "                    break\n",
    "                elif best_score > alpha:\n",
    "                    best_move = (row, col)\n",
    "                    alpha = best_score\n",
    "        else:\n",
    "            best_score = np.infty\n",
    "            best_move = (None, None)\n",
    "            lop = len(open_spaces)\n",
    "            c = 0\n",
    "            for row, col in open_spaces:\n",
    "                c += 1\n",
    "                new_board = copy.deepcopy(board)\n",
    "                new_board[row][col] = stone\n",
    "                score, move = self.alphabeta_search(new_board, depth-1, other_stone(stone), alpha, beta)\n",
    "                best_score = min(score, best_score)\n",
    "                #print(f\"O: New score={score}, Best score={best_score}, alpha={alpha}, beta={beta}\")\n",
    "                if best_score <= alpha:\n",
    "                    self.pruned += (lop - c)**depth\n",
    "                    break\n",
    "                elif best_score < beta:\n",
    "                    best_move = (row, col)\n",
    "                    beta = best_score\n",
    "                \n",
    "        #print(f\"Returning {best_score}\")\n",
    "        self.nodes += 1\n",
    "        return best_score, best_move\n",
    "        \n",
    "                    \n",
    "    def get_move(self, board, max_nodes = 100):\n",
    "        score, move = self.minmax_search(board, self.max_depth, self.stone, -np.inf, np.inf)\n",
    "        return move\n",
    "            \n"
   ]
  },
  {
   "cell_type": "code",
   "execution_count": 25,
   "metadata": {},
   "outputs": [
    {
     "name": "stdout",
     "output_type": "stream",
     "text": [
      "20150\n",
      "(5, 7)\n",
      "0\n",
      "0\n"
     ]
    }
   ],
   "source": [
    "            \n",
    "x = Strategy(\"X\", max_depth=3)\n",
    "o = Strategy(\"O\", max_depth=1)\n",
    "board = np.array([['-'] * 8 for _ in range(8)])\n",
    "\n",
    "\n",
    "board = np.array([list(x) for x in \"\"\"\n",
    "O|-|-|-|-|-|-|-\n",
    "-|-|X|-|X|-|O|O\n",
    "-|-|-|X|O|-|O|-\n",
    "-|-|X|-|X|O|-|-\n",
    "-|X|-|-|X|-|O|-\n",
    "-|-|-|O|-|-|-|-\"\"\".replace(\"|\", \"\").split('\\n')[1:]])\n",
    "\n",
    "print(o.eval_board(board, \"X\"))\n",
    "print(x.get_move(board))\n",
    "print(x.nodes)\n",
    "print(x.pruned)"
   ]
  },
  {
   "cell_type": "code",
   "execution_count": 7,
   "metadata": {},
   "outputs": [
    {
     "data": {
      "application/vnd.jupyter.widget-view+json": {
       "model_id": "058cdc003cb44b07ad5f93522a86971f",
       "version_major": 2,
       "version_minor": 0
      },
      "text/plain": [
       "HBox(children=(FloatProgress(value=0.0, max=53.0), HTML(value='')))"
      ]
     },
     "metadata": {},
     "output_type": "display_data"
    },
    {
     "name": "stdout",
     "output_type": "stream",
     "text": [
      "\n",
      "1 X 4,4\n",
      "\u001b[4m-|-|-|-|-|-|-|-\u001b[0m\n",
      "\u001b[4m-|-|X|-|X|-|O|O\u001b[0m\n",
      "\u001b[4m-|-|-|-|-|-|O|-\u001b[0m\n",
      "\u001b[4m-|-|X|-|X|O|-|-\u001b[0m\n",
      "\u001b[4m-|-|-|-\u001b[0m|\u001b[1m\u001b[4mX\u001b[0m\u001b[4m|-|-|-\u001b[0m\n",
      "\u001b[4m-|-|-|O|-|-|-|-\u001b[0m\n",
      "\u001b[4m-|-|-|-|-|-|-|-\u001b[0m\n",
      "-|-|-|-|-|-|O|X\n"
     ]
    },
    {
     "data": {
      "application/vnd.jupyter.widget-view+json": {
       "model_id": "2c02c72f7348452a941e999c2fbbf944",
       "version_major": 2,
       "version_minor": 0
      },
      "text/plain": [
       "HBox(children=(FloatProgress(value=0.0, max=52.0), HTML(value='')))"
      ]
     },
     "metadata": {},
     "output_type": "display_data"
    },
    {
     "name": "stdout",
     "output_type": "stream",
     "text": [
      "\n",
      "2 O 2,4\n",
      "\u001b[4m-|-|-|-|-|-|-|-\u001b[0m\n",
      "\u001b[4m-|-|X|-|X|-|O|O\u001b[0m\n",
      "\u001b[4m-|-|-|-\u001b[0m|\u001b[1m\u001b[4mO\u001b[0m\u001b[4m|-|O|-\u001b[0m\n",
      "\u001b[4m-|-|X|-|X|O|-|-\u001b[0m\n",
      "\u001b[4m-|-|-|-|X|-|-|-\u001b[0m\n",
      "\u001b[4m-|-|-|O|-|-|-|-\u001b[0m\n",
      "\u001b[4m-|-|-|-|-|-|-|-\u001b[0m\n",
      "-|-|-|-|-|-|O|X\n"
     ]
    },
    {
     "data": {
      "application/vnd.jupyter.widget-view+json": {
       "model_id": "50700dcbe92e4628b73b3b65ba4d98ed",
       "version_major": 2,
       "version_minor": 0
      },
      "text/plain": [
       "HBox(children=(FloatProgress(value=0.0, max=51.0), HTML(value='')))"
      ]
     },
     "metadata": {},
     "output_type": "display_data"
    },
    {
     "name": "stdout",
     "output_type": "stream",
     "text": [
      "\n",
      "3 X 2,3\n",
      "\u001b[4m-|-|-|-|-|-|-|-\u001b[0m\n",
      "\u001b[4m-|-|X|-|X|-|O|O\u001b[0m\n",
      "\u001b[4m-|-|-\u001b[0m|\u001b[1m\u001b[4mX\u001b[0m\u001b[4m|O|-|O|-\u001b[0m\n",
      "\u001b[4m-|-|X|-|X|O|-|-\u001b[0m\n",
      "\u001b[4m-|-|-|-|X|-|-|-\u001b[0m\n",
      "\u001b[4m-|-|-|O|-|-|-|-\u001b[0m\n",
      "\u001b[4m-|-|-|-|-|-|-|-\u001b[0m\n",
      "-|-|-|-|-|-|O|X\n"
     ]
    },
    {
     "data": {
      "application/vnd.jupyter.widget-view+json": {
       "model_id": "cf28b584b9b3429f88890fc73eb834f8",
       "version_major": 2,
       "version_minor": 0
      },
      "text/plain": [
       "HBox(children=(FloatProgress(value=0.0, max=50.0), HTML(value='')))"
      ]
     },
     "metadata": {},
     "output_type": "display_data"
    },
    {
     "name": "stdout",
     "output_type": "stream",
     "text": [
      "\n",
      "4 O 4,6\n",
      "\u001b[4m-|-|-|-|-|-|-|-\u001b[0m\n",
      "\u001b[4m-|-|X|-|X|-|O|O\u001b[0m\n",
      "\u001b[4m-|-|-|X|O|-|O|-\u001b[0m\n",
      "\u001b[4m-|-|X|-|X|O|-|-\u001b[0m\n",
      "\u001b[4m-|-|-|-|X|-\u001b[0m|\u001b[1m\u001b[4mO\u001b[0m\u001b[4m|-\u001b[0m\n",
      "\u001b[4m-|-|-|O|-|-|-|-\u001b[0m\n",
      "\u001b[4m-|-|-|-|-|-|-|-\u001b[0m\n",
      "-|-|-|-|-|-|O|X\n"
     ]
    },
    {
     "data": {
      "application/vnd.jupyter.widget-view+json": {
       "model_id": "be5ac5211d384fabb2b1e88cd453c2e9",
       "version_major": 2,
       "version_minor": 0
      },
      "text/plain": [
       "HBox(children=(FloatProgress(value=0.0, max=49.0), HTML(value='')))"
      ]
     },
     "metadata": {},
     "output_type": "display_data"
    },
    {
     "name": "stdout",
     "output_type": "stream",
     "text": [
      "\n",
      "5 X 4,1\n",
      "\u001b[4m-|-|-|-|-|-|-|-\u001b[0m\n",
      "\u001b[4m-|-|X|-|X|-|O|O\u001b[0m\n",
      "\u001b[4m-|-|-|X|O|-|O|-\u001b[0m\n",
      "\u001b[4m-|-|X|-|X|O|-|-\u001b[0m\n",
      "\u001b[4m-\u001b[0m|\u001b[1m\u001b[4mX\u001b[0m\u001b[4m|-|-|X|-|O|-\u001b[0m\n",
      "\u001b[4m-|-|-|O|-|-|-|-\u001b[0m\n",
      "\u001b[4m-|-|-|-|-|-|-|-\u001b[0m\n",
      "-|-|-|-|-|-|O|X\n"
     ]
    },
    {
     "data": {
      "application/vnd.jupyter.widget-view+json": {
       "model_id": "f1e7ca6251f348108e912f222bc950ae",
       "version_major": 2,
       "version_minor": 0
      },
      "text/plain": [
       "HBox(children=(FloatProgress(value=0.0, max=48.0), HTML(value='')))"
      ]
     },
     "metadata": {},
     "output_type": "display_data"
    },
    {
     "name": "stdout",
     "output_type": "stream",
     "text": [
      "\n",
      "6 O 0,0\n",
      "\u001b[4m\u001b[0m\u001b[1m\u001b[4mO\u001b[0m\u001b[4m|-|-|-|-|-|-|-\u001b[0m\n",
      "\u001b[4m-|-|X|-|X|-|O|O\u001b[0m\n",
      "\u001b[4m-|-|-|X|O|-|O|-\u001b[0m\n",
      "\u001b[4m-|-|X|-|X|O|-|-\u001b[0m\n",
      "\u001b[4m-|X|-|-|X|-|O|-\u001b[0m\n",
      "\u001b[4m-|-|-|O|-|-|-|-\u001b[0m\n",
      "\u001b[4m-|-|-|-|-|-|-|-\u001b[0m\n",
      "-|-|-|-|-|-|O|X\n"
     ]
    },
    {
     "data": {
      "application/vnd.jupyter.widget-view+json": {
       "model_id": "a01a66b68c444cf0a16a5dfbc32f4d5f",
       "version_major": 2,
       "version_minor": 0
      },
      "text/plain": [
       "HBox(children=(FloatProgress(value=0.0, max=47.0), HTML(value='')))"
      ]
     },
     "metadata": {},
     "output_type": "display_data"
    },
    {
     "name": "stdout",
     "output_type": "stream",
     "text": [
      "\n",
      "7 X 0,1\n",
      "\u001b[4mO\u001b[0m|\u001b[1m\u001b[4mX\u001b[0m\u001b[4m|-|-|-|-|-|-\u001b[0m\n",
      "\u001b[4m-|-|X|-|X|-|O|O\u001b[0m\n",
      "\u001b[4m-|-|-|X|O|-|O|-\u001b[0m\n",
      "\u001b[4m-|-|X|-|X|O|-|-\u001b[0m\n",
      "\u001b[4m-|X|-|-|X|-|O|-\u001b[0m\n",
      "\u001b[4m-|-|-|O|-|-|-|-\u001b[0m\n",
      "\u001b[4m-|-|-|-|-|-|-|-\u001b[0m\n",
      "-|-|-|-|-|-|O|X\n"
     ]
    },
    {
     "data": {
      "application/vnd.jupyter.widget-view+json": {
       "model_id": "ae17b70bb4ac465fbbfa3e5a0911248c",
       "version_major": 2,
       "version_minor": 0
      },
      "text/plain": [
       "HBox(children=(FloatProgress(value=0.0, max=46.0), HTML(value='')))"
      ]
     },
     "metadata": {},
     "output_type": "display_data"
    },
    {
     "name": "stdout",
     "output_type": "stream",
     "text": [
      "\n",
      "8 O 0,2\n",
      "\u001b[4mO|X\u001b[0m|\u001b[1m\u001b[4mO\u001b[0m\u001b[4m|-|-|-|-|-\u001b[0m\n",
      "\u001b[4m-|-|X|-|X|-|O|O\u001b[0m\n",
      "\u001b[4m-|-|-|X|O|-|O|-\u001b[0m\n",
      "\u001b[4m-|-|X|-|X|O|-|-\u001b[0m\n",
      "\u001b[4m-|X|-|-|X|-|O|-\u001b[0m\n",
      "\u001b[4m-|-|-|O|-|-|-|-\u001b[0m\n",
      "\u001b[4m-|-|-|-|-|-|-|-\u001b[0m\n",
      "-|-|-|-|-|-|O|X\n"
     ]
    },
    {
     "data": {
      "application/vnd.jupyter.widget-view+json": {
       "model_id": "2a517a380b7a4cd8823b748b14f5a984",
       "version_major": 2,
       "version_minor": 0
      },
      "text/plain": [
       "HBox(children=(FloatProgress(value=0.0, max=45.0), HTML(value='')))"
      ]
     },
     "metadata": {},
     "output_type": "display_data"
    },
    {
     "name": "stdout",
     "output_type": "stream",
     "text": [
      "\n",
      "9 X 0,5\n",
      "\u001b[4mO|X|O|-|-\u001b[0m|\u001b[1m\u001b[4mX\u001b[0m\u001b[4m|-|-\u001b[0m\n",
      "\u001b[4m-|-|X|-|X|-|O|O\u001b[0m\n",
      "\u001b[4m-|-|-|X|O|-|O|-\u001b[0m\n",
      "\u001b[4m-|-|X|-|X|O|-|-\u001b[0m\n",
      "\u001b[4m-|X|-|-|X|-|O|-\u001b[0m\n",
      "\u001b[4m-|-|-|O|-|-|-|-\u001b[0m\n",
      "\u001b[4m-|-|-|-|-|-|-|-\u001b[0m\n",
      "-|-|-|-|-|-|O|X\n"
     ]
    },
    {
     "data": {
      "text/plain": [
       "True"
      ]
     },
     "execution_count": 7,
     "metadata": {},
     "output_type": "execute_result"
    }
   ],
   "source": [
    "def play_game(board, strategy_1, strategy_2):\n",
    "    player1_turn = True\n",
    "    turn_count = 0\n",
    "    n = len(board)\n",
    "    m = len(board[0])\n",
    "    while not complete_board(board) and turn_count < m*n:\n",
    "        if player1_turn:\n",
    "            row, col = strategy_1.get_move(board)\n",
    "            board[row][col] = \"X\"\n",
    "        else:\n",
    "            row, col = strategy_2.get_move(board)\n",
    "            board[row][col] = \"O\"\n",
    "        turn_count += 1\n",
    "        print(turn_count, \"X\" if player1_turn else \"O\", f\"{row},{col}\")\n",
    "        print_board(board, (row, col))\n",
    "        board[row][col] = \"X\" if player1_turn else \"O\"\n",
    "        player1_turn = not player1_turn\n",
    "    return complete_board(board)\n",
    "\n",
    "\n",
    "board = np.array([list(x) for x in \"\"\"\n",
    "-|-|-|-|-|-|-|-\n",
    "-|-|X|-|X|-|O|O\n",
    "-|-|-|-|-|-|O|-\n",
    "-|-|X|-|X|O|-|-\n",
    "-|-|-|-|-|-|-|-\n",
    "-|-|-|O|-|-|-|-\n",
    "-|-|-|-|-|-|-|-\n",
    "-|-|-|-|-|-|O|X\"\"\".replace(\"|\", \"\").split('\\n')[1:]])\n",
    "n = 8\n",
    "p1 = Strategy(\"X\", max_depth=3)\n",
    "p2 = Strategy(\"O\", max_depth=3)\n",
    "play_game(board, p1, p2)"
   ]
  },
  {
   "cell_type": "code",
   "execution_count": null,
   "metadata": {},
   "outputs": [],
   "source": []
  }
 ],
 "metadata": {
  "kernelspec": {
   "display_name": "Python 3",
   "language": "python",
   "name": "python3"
  },
  "language_info": {
   "codemirror_mode": {
    "name": "ipython",
    "version": 3
   },
   "file_extension": ".py",
   "mimetype": "text/x-python",
   "name": "python",
   "nbconvert_exporter": "python",
   "pygments_lexer": "ipython3",
   "version": "3.7.6"
  }
 },
 "nbformat": 4,
 "nbformat_minor": 4
}
