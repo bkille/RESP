{
 "cells": [
  {
   "cell_type": "markdown",
   "id": "33e8fb3d-3201-44e7-ae47-991cf784fed7",
   "metadata": {},
   "source": [
    "# HW2: Data structures homework\n"
   ]
  },
  {
   "cell_type": "markdown",
   "id": "8c02fd2a-712f-4d2f-86de-92bf17dcd51e",
   "metadata": {},
   "source": [
    "## Problem 1: Longest common prefix of two strings\n",
    "> Write a function `LCP(a, b)` that returns the length of the longest common prefix of strings `a` and `b`.  \n",
    "```python\n",
    ">>> print(LCP(\"Hello\", \"Helsinki\"))\n",
    "3\n",
    ">>> print(LCP(\"Bryce\", \"Kille\"))\n",
    "0\n",
    ">>> print(LCP(\"RESP\", \"RIDDLE\"))\n",
    "1\n",
    "```"
   ]
  },
  {
   "cell_type": "code",
   "execution_count": 5,
   "id": "ffad69fa-ee54-4f7f-8d41-fe1f1a76e5e4",
   "metadata": {},
   "outputs": [
    {
     "name": "stdout",
     "output_type": "stream",
     "text": [
      "3\n",
      "0\n",
      "1\n"
     ]
    }
   ],
   "source": [
    "def LCP(a, b):\n",
    "    return max(i for i in range(min(len(a), len(b))) if a[:i] == b[:i])\n",
    "print(LCP(\"Hello\", \"Helsinki\"))\n",
    "print(LCP(\"Bryce\", \"Kille\"))\n",
    "print(LCP(\"RESP\", \"RIDDLE\"))"
   ]
  },
  {
   "cell_type": "markdown",
   "id": "168a8609-f52a-4c38-8447-cdd91fa933a7",
   "metadata": {},
   "source": [
    "## Problem 2a: Valid Parentheses\n",
    "> Write a function `valid_parentheses(s)` that returns the `True` if and only if the string `s` has \"balanced parentheses.\" \n",
    "```python\n",
    ">>> print(valid_parentheses(\"()\"))\n",
    "True\n",
    ">>> print(valid_parentheses(\")\"))\n",
    "False\n",
    ">>> print(valid_parentheses(\"(())\"))\n",
    "True\n",
    ">>> print(valid_parentheses(\"(())(\"))\n",
    "False\n",
    ">>> print(valid_parentheses(\"(()))\"))\n",
    "False\n",
    ">>> print(valid_parentheses(\"()()\"))\n",
    "True\n",
    ">>> print(valid_parentheses(\"(()())\"))\n",
    "True\n",
    ">>> print(valid_parentheses(\"(()()())\"))\n",
    "True\n",
    "```"
   ]
  },
  {
   "cell_type": "code",
   "execution_count": 27,
   "id": "312c6372-9e80-4ac3-8827-6ef5cb68f622",
   "metadata": {},
   "outputs": [
    {
     "name": "stdout",
     "output_type": "stream",
     "text": [
      "valid_parentheses(()) returns False, but should return True\n",
      "valid_parentheses(((1))) returns False, but should return True\n",
      "valid_parentheses((a+b)(a-b)) returns False, but should return True\n",
      "valid_parentheses((()())) returns False, but should return True\n",
      "valid_parentheses((()()())) returns False, but should return True\n"
     ]
    }
   ],
   "source": [
    "def valid_parentheses(s):\n",
    "    # Your code here!\n",
    "    return False\n",
    "\n",
    "test_strings = [\n",
    "    (\"()\", True), \n",
    "    (\")\", False), \n",
    "    (\"((1))\", True), \n",
    "    (\"(3*(2))(\", False), \n",
    "    (\"(3*(2+2)))\", False), \n",
    "    (\"(a+b)(a-b)\", True), \n",
    "    (\"(()())\", True), \n",
    "    (\"(()()())\", True)\n",
    "]\n",
    "for s, res in test_strings:\n",
    "    if valid_parentheses(s) != res:\n",
    "        print(f\"valid_parentheses({s}) returns {not res}, but should return {res}\")"
   ]
  },
  {
   "cell_type": "markdown",
   "id": "9770ca6a-10e0-4538-9bdd-d390235e7cb3",
   "metadata": {},
   "source": [
    "## Problem 3: Merge two sorted lists\n",
    "> Write a function `merge(a, b)` that accepts two sorted lists `a` and `b` as input, and returns a sorted list of elements of `a + b`.\n"
   ]
  }
 ],
 "metadata": {
  "kernelspec": {
   "display_name": "Python 3 (ipykernel)",
   "language": "python",
   "name": "python3"
  },
  "language_info": {
   "codemirror_mode": {
    "name": "ipython",
    "version": 3
   },
   "file_extension": ".py",
   "mimetype": "text/x-python",
   "name": "python",
   "nbconvert_exporter": "python",
   "pygments_lexer": "ipython3",
   "version": "3.9.13"
  }
 },
 "nbformat": 4,
 "nbformat_minor": 5
}
